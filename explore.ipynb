{
 "cells": [
  {
   "cell_type": "code",
   "execution_count": 32,
   "id": "db1a9873-e3e1-4bb2-a227-4dcc67b87922",
   "metadata": {
    "tags": []
   },
   "outputs": [],
   "source": [
    "import pandas as pd\n",
    "import matplotlib.pyplot as plt"
   ]
  },
  {
   "cell_type": "code",
   "execution_count": null,
   "id": "f6759611-09e6-47aa-a189-3d92039ef3f4",
   "metadata": {},
   "outputs": [],
   "source": []
  },
  {
   "cell_type": "code",
   "execution_count": 2,
   "id": "c0b69fd0-e7d6-40ba-ba36-fb6999bbad89",
   "metadata": {
    "tags": []
   },
   "outputs": [],
   "source": [
    "path = \"/home/users/joecohen/group/joecohen/Totalsegmentator_dataset/\""
   ]
  },
  {
   "cell_type": "code",
   "execution_count": null,
   "id": "26a58a66-ed01-4d62-bde0-dd96c3e77405",
   "metadata": {},
   "outputs": [],
   "source": []
  },
  {
   "cell_type": "code",
   "execution_count": 5,
   "id": "92051e70-3bfc-478a-8775-72165b699913",
   "metadata": {
    "tags": []
   },
   "outputs": [],
   "source": [
    "csv = pd.read_csv(path + 'meta.csv', delimiter=';')"
   ]
  },
  {
   "cell_type": "code",
   "execution_count": 7,
   "id": "7ec579c9-9ef8-4b8b-b990-98eccf5ef77e",
   "metadata": {
    "tags": []
   },
   "outputs": [
    {
     "data": {
      "text/html": [
       "<div>\n",
       "<style scoped>\n",
       "    .dataframe tbody tr th:only-of-type {\n",
       "        vertical-align: middle;\n",
       "    }\n",
       "\n",
       "    .dataframe tbody tr th {\n",
       "        vertical-align: top;\n",
       "    }\n",
       "\n",
       "    .dataframe thead th {\n",
       "        text-align: right;\n",
       "    }\n",
       "</style>\n",
       "<table border=\"1\" class=\"dataframe\">\n",
       "  <thead>\n",
       "    <tr style=\"text-align: right;\">\n",
       "      <th></th>\n",
       "      <th>image_id</th>\n",
       "      <th>age</th>\n",
       "      <th>gender</th>\n",
       "      <th>institute</th>\n",
       "      <th>study_type</th>\n",
       "      <th>split</th>\n",
       "    </tr>\n",
       "  </thead>\n",
       "  <tbody>\n",
       "    <tr>\n",
       "      <th>0</th>\n",
       "      <td>s0000</td>\n",
       "      <td>32</td>\n",
       "      <td>f</td>\n",
       "      <td>H</td>\n",
       "      <td>ct pelvis</td>\n",
       "      <td>val</td>\n",
       "    </tr>\n",
       "    <tr>\n",
       "      <th>1</th>\n",
       "      <td>s0001</td>\n",
       "      <td>59</td>\n",
       "      <td>f</td>\n",
       "      <td>H</td>\n",
       "      <td>ct abdomen-pelvis</td>\n",
       "      <td>train</td>\n",
       "    </tr>\n",
       "    <tr>\n",
       "      <th>2</th>\n",
       "      <td>s0002</td>\n",
       "      <td>49</td>\n",
       "      <td>f</td>\n",
       "      <td>H</td>\n",
       "      <td>ct thorax-neck</td>\n",
       "      <td>train</td>\n",
       "    </tr>\n",
       "    <tr>\n",
       "      <th>3</th>\n",
       "      <td>s0003</td>\n",
       "      <td>51</td>\n",
       "      <td>f</td>\n",
       "      <td>H</td>\n",
       "      <td>ct spine</td>\n",
       "      <td>train</td>\n",
       "    </tr>\n",
       "    <tr>\n",
       "      <th>4</th>\n",
       "      <td>s0004</td>\n",
       "      <td>72</td>\n",
       "      <td>f</td>\n",
       "      <td>C</td>\n",
       "      <td>ct thorax-abdomen-pelvis</td>\n",
       "      <td>train</td>\n",
       "    </tr>\n",
       "    <tr>\n",
       "      <th>...</th>\n",
       "      <td>...</td>\n",
       "      <td>...</td>\n",
       "      <td>...</td>\n",
       "      <td>...</td>\n",
       "      <td>...</td>\n",
       "      <td>...</td>\n",
       "    </tr>\n",
       "    <tr>\n",
       "      <th>1199</th>\n",
       "      <td>s1400</td>\n",
       "      <td>67</td>\n",
       "      <td>m</td>\n",
       "      <td>H</td>\n",
       "      <td>ct angiography thorax-abdomen-pelvis</td>\n",
       "      <td>train</td>\n",
       "    </tr>\n",
       "    <tr>\n",
       "      <th>1200</th>\n",
       "      <td>s1401</td>\n",
       "      <td>49</td>\n",
       "      <td>f</td>\n",
       "      <td>H</td>\n",
       "      <td>ct angiography abdomen-pelvis</td>\n",
       "      <td>train</td>\n",
       "    </tr>\n",
       "    <tr>\n",
       "      <th>1201</th>\n",
       "      <td>s1403</td>\n",
       "      <td>59</td>\n",
       "      <td>m</td>\n",
       "      <td>H</td>\n",
       "      <td>ct angiography abdomen-pelvis</td>\n",
       "      <td>train</td>\n",
       "    </tr>\n",
       "    <tr>\n",
       "      <th>1202</th>\n",
       "      <td>s1404</td>\n",
       "      <td>61</td>\n",
       "      <td>f</td>\n",
       "      <td>H</td>\n",
       "      <td>ct angiography thorax-abdomen-pelvis</td>\n",
       "      <td>train</td>\n",
       "    </tr>\n",
       "    <tr>\n",
       "      <th>1203</th>\n",
       "      <td>s1405</td>\n",
       "      <td>74</td>\n",
       "      <td>m</td>\n",
       "      <td>H</td>\n",
       "      <td>ct angiography abdomen-pelvis</td>\n",
       "      <td>train</td>\n",
       "    </tr>\n",
       "  </tbody>\n",
       "</table>\n",
       "<p>1204 rows × 6 columns</p>\n",
       "</div>"
      ],
      "text/plain": [
       "     image_id  age gender institute                            study_type   \n",
       "0       s0000   32      f         H                             ct pelvis  \\\n",
       "1       s0001   59      f         H                     ct abdomen-pelvis   \n",
       "2       s0002   49      f         H                        ct thorax-neck   \n",
       "3       s0003   51      f         H                              ct spine   \n",
       "4       s0004   72      f         C              ct thorax-abdomen-pelvis   \n",
       "...       ...  ...    ...       ...                                   ...   \n",
       "1199    s1400   67      m         H  ct angiography thorax-abdomen-pelvis   \n",
       "1200    s1401   49      f         H         ct angiography abdomen-pelvis   \n",
       "1201    s1403   59      m         H         ct angiography abdomen-pelvis   \n",
       "1202    s1404   61      f         H  ct angiography thorax-abdomen-pelvis   \n",
       "1203    s1405   74      m         H         ct angiography abdomen-pelvis   \n",
       "\n",
       "      split  \n",
       "0       val  \n",
       "1     train  \n",
       "2     train  \n",
       "3     train  \n",
       "4     train  \n",
       "...     ...  \n",
       "1199  train  \n",
       "1200  train  \n",
       "1201  train  \n",
       "1202  train  \n",
       "1203  train  \n",
       "\n",
       "[1204 rows x 6 columns]"
      ]
     },
     "execution_count": 7,
     "metadata": {},
     "output_type": "execute_result"
    }
   ],
   "source": [
    "csv"
   ]
  },
  {
   "cell_type": "code",
   "execution_count": null,
   "id": "b6fd1d8c-c79e-4b34-84c4-8278e235a3f3",
   "metadata": {},
   "outputs": [],
   "source": []
  },
  {
   "cell_type": "code",
   "execution_count": 8,
   "id": "7b48442f-2327-4eb9-968d-8da9bb66d894",
   "metadata": {
    "tags": []
   },
   "outputs": [],
   "source": [
    "import pydicom"
   ]
  },
  {
   "cell_type": "code",
   "execution_count": null,
   "id": "958edef1-8786-4961-83a9-abeb877f2f7b",
   "metadata": {
    "tags": []
   },
   "outputs": [],
   "source": []
  },
  {
   "cell_type": "code",
   "execution_count": 16,
   "id": "36074745-cf6b-4465-9a23-45effe81248c",
   "metadata": {
    "tags": []
   },
   "outputs": [],
   "source": [
    "import nibabel as nib"
   ]
  },
  {
   "cell_type": "code",
   "execution_count": 59,
   "id": "14ac0eb4-3ef2-4af2-8b0e-c32ccadbb3b4",
   "metadata": {
    "tags": []
   },
   "outputs": [
    {
     "name": "stdout",
     "output_type": "stream",
     "text": [
      "s0000 (294, 192, 179) int32\n",
      "s0001 (249, 188, 213) int32\n",
      "s0002 (185, 128, 101) int32\n",
      "s0003 (127, 127, 126) int32\n",
      "s0004 (255, 177, 440) int32\n",
      "s0006 (216, 216, 217) int32\n",
      "s0009 (119, 119, 185) int32\n",
      "s0010 (259, 259, 283) int32\n",
      "s0011 (311, 311, 431) int32\n",
      "s0012 (238, 145, 315) int32\n",
      "s0013 (231, 175, 301) int32\n",
      "s0014 (286, 286, 308) int32\n",
      "s0015 (293, 293, 344) int32\n",
      "s0016 (259, 259, 294) int32\n",
      "s0019 (221, 221, 407) int32\n",
      "s0021 (185, 185, 218) int32\n",
      "s0022 (295, 295, 250) int32\n",
      "s0024 (287, 287, 486) int32\n",
      "s0025 (59, 90, 139) int32\n",
      "s0028 (299, 299, 394) int32\n"
     ]
    }
   ],
   "source": [
    "for image_id in csv.image_id[:20]:\n",
    "    g = nib.load(path + image_id + \"/ct.nii.gz\")\n",
    "    print(image_id, g.shape, g.get_data_dtype())"
   ]
  },
  {
   "cell_type": "code",
   "execution_count": 41,
   "id": "f7e09937-6dd6-4a54-93c3-fc08b06fad3f",
   "metadata": {
    "tags": []
   },
   "outputs": [],
   "source": [
    "g = nib.load(path + \"s0002/ct.nii.gz\")"
   ]
  },
  {
   "cell_type": "code",
   "execution_count": 58,
   "id": "6eecbf82-268f-4fc6-93f5-bbe363f163e4",
   "metadata": {
    "tags": []
   },
   "outputs": [
    {
     "data": {
      "text/plain": [
       "dtype('<i4')"
      ]
     },
     "execution_count": 58,
     "metadata": {},
     "output_type": "execute_result"
    }
   ],
   "source": [
    "g.get_data_dtype()"
   ]
  },
  {
   "cell_type": "code",
   "execution_count": 43,
   "id": "c7d3c6c6-259e-4fd3-80fe-703b608f98ea",
   "metadata": {
    "tags": []
   },
   "outputs": [],
   "source": [
    "img = g.get_fdata()"
   ]
  },
  {
   "cell_type": "code",
   "execution_count": null,
   "id": "748dceff-a96d-46a1-a09a-aaf7e2839af5",
   "metadata": {},
   "outputs": [],
   "source": []
  },
  {
   "cell_type": "code",
   "execution_count": 46,
   "id": "4f0c5ddd-11f3-4111-b10b-b81cb1a1dd06",
   "metadata": {
    "tags": []
   },
   "outputs": [
    {
     "data": {
      "image/png": "[encoded data removed]",
      "text/plain": [
       "<Figure size 640x480 with 1 Axes>"
      ]
     },
     "metadata": {},
     "output_type": "display_data"
    }
   ],
   "source": [
    "plt.imshow(img[50]);"
   ]
  },
  {
   "cell_type": "code",
   "execution_count": null,
   "id": "ca0277a0-f56f-4226-8a1d-0d501db29b68",
   "metadata": {},
   "outputs": [],
   "source": []
  },
  {
   "cell_type": "code",
   "execution_count": null,
   "id": "f3faf918-36a0-431e-bd41-f40141b4e66a",
   "metadata": {},
   "outputs": [],
   "source": []
  },
  {
   "cell_type": "code",
   "execution_count": null,
   "id": "83408ff9-e649-49d6-87cd-fd0f89bdf2b4",
   "metadata": {},
   "outputs": [],
   "source": []
  },
  {
   "cell_type": "code",
   "execution_count": null,
   "id": "e795173a-27a3-4524-94fa-f1a4d9f1100a",
   "metadata": {},
   "outputs": [],
   "source": []
  },
  {
   "cell_type": "code",
   "execution_count": null,
   "id": "c177332a-787d-4de1-898f-d74ba73c26a2",
   "metadata": {
    "tags": []
   },
   "outputs": [],
   "source": []
  },
  {
   "cell_type": "code",
   "execution_count": null,
   "id": "b27fe7b1-eac1-4ebc-afc0-087972c182c6",
   "metadata": {},
   "outputs": [],
   "source": []
  }
 ],
 "metadata": {
  "kernelspec": {
   "display_name": "Python 3 (ipykernel)",
   "language": "python",
   "name": "python3"
  },
  "language_info": {
   "codemirror_mode": {
    "name": "ipython",
    "version": 3
   },
   "file_extension": ".py",
   "mimetype": "text/x-python",
   "name": "python",
   "nbconvert_exporter": "python",
   "pygments_lexer": "ipython3",
   "version": "3.9.0"
  }
 },
 "nbformat": 4,
 "nbformat_minor": 5
}
