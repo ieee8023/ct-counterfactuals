{
 "cells": [
  {
   "cell_type": "code",
   "execution_count": 1,
   "id": "3d7286fc-9b91-4fea-8a3f-94662a4e4643",
   "metadata": {
    "tags": []
   },
   "outputs": [],
   "source": [
    "%load_ext autoreload\n",
    "%autoreload 2 "
   ]
  },
  {
   "cell_type": "code",
   "execution_count": 13,
   "id": "db1a9873-e3e1-4bb2-a227-4dcc67b87922",
   "metadata": {
    "tags": []
   },
   "outputs": [
    {
     "name": "stderr",
     "output_type": "stream",
     "text": [
      "/tmp/ipykernel_16669/575932552.py:3: TqdmExperimentalWarning: Using `tqdm.autonotebook.tqdm` in notebook mode. Use `tqdm.tqdm` instead to force console mode (e.g. in jupyter console)\n",
      "  from tqdm.autonotebook import tqdm\n"
     ]
    }
   ],
   "source": [
    "import pandas as pd\n",
    "import matplotlib.pyplot as plt\n",
    "from tqdm.autonotebook import tqdm"
   ]
  },
  {
   "cell_type": "code",
   "execution_count": null,
   "id": "f6759611-09e6-47aa-a189-3d92039ef3f4",
   "metadata": {},
   "outputs": [],
   "source": []
  },
  {
   "cell_type": "code",
   "execution_count": 3,
   "id": "545e6d12-b871-4ba5-b8cd-1369195f71b4",
   "metadata": {
    "tags": []
   },
   "outputs": [],
   "source": [
    "import ct_datasets"
   ]
  },
  {
   "cell_type": "code",
   "execution_count": null,
   "id": "b0b78e04-f4cc-47de-98a3-ce83e433ce48",
   "metadata": {},
   "outputs": [],
   "source": []
  },
  {
   "cell_type": "code",
   "execution_count": 109,
   "id": "dce6943c-a834-4d8b-84db-6a059cf3dad1",
   "metadata": {
    "tags": []
   },
   "outputs": [],
   "source": [
    "a={}"
   ]
  },
  {
   "cell_type": "code",
   "execution_count": 110,
   "id": "10d834e7-c23d-4fbb-a68e-2cd87f71457b",
   "metadata": {
    "tags": []
   },
   "outputs": [],
   "source": [
    "a.update(csv.iloc[0])"
   ]
  },
  {
   "cell_type": "code",
   "execution_count": 115,
   "id": "bec763c7-7c65-4e6e-9f9e-1e837b9615e6",
   "metadata": {
    "tags": []
   },
   "outputs": [
    {
     "name": "stderr",
     "output_type": "stream",
     "text": [
      "[autoreload of ct_datasets failed: Traceback (most recent call last):\n",
      "  File \"/home/users/joecohen/.local/lib/python3.9/site-packages/IPython/extensions/autoreload.py\", line 273, in check\n",
      "    superreload(m, reload, self.old_objects)\n",
      "  File \"/home/users/joecohen/.local/lib/python3.9/site-packages/IPython/extensions/autoreload.py\", line 471, in superreload\n",
      "    module = reload(module)\n",
      "  File \"/share/software/user/open/python/3.9.0/lib/python3.9/importlib/__init__.py\", line 169, in reload\n",
      "    _bootstrap._exec(spec, module)\n",
      "  File \"<frozen importlib._bootstrap>\", line 613, in _exec\n",
      "  File \"<frozen importlib._bootstrap_external>\", line 786, in exec_module\n",
      "  File \"<frozen importlib._bootstrap_external>\", line 923, in get_code\n",
      "  File \"<frozen importlib._bootstrap_external>\", line 853, in source_to_code\n",
      "  File \"<frozen importlib._bootstrap>\", line 228, in _call_with_frames_removed\n",
      "  File \"/home/users/joecohen/workspace/ct-counterfactuals/ct_datasets.py\", line 17\n",
      "    for i, row in self.raw_csv.iterrows():\n",
      "    ^\n",
      "IndentationError: expected an indented block\n",
      "]\n"
     ]
    }
   ],
   "source": [
    "# for i, row in csv.iterrows():\n",
    "#     print(row)"
   ]
  },
  {
   "cell_type": "code",
   "execution_count": null,
   "id": "bf3a9ae2-4aa7-41b7-b397-d900b5b8fece",
   "metadata": {},
   "outputs": [],
   "source": []
  },
  {
   "cell_type": "code",
   "execution_count": 4,
   "id": "c0b69fd0-e7d6-40ba-ba36-fb6999bbad89",
   "metadata": {
    "tags": []
   },
   "outputs": [],
   "source": [
    "path = \"/home/users/joecohen/group/joecohen/Totalsegmentator_dataset/\""
   ]
  },
  {
   "cell_type": "code",
   "execution_count": null,
   "id": "26a58a66-ed01-4d62-bde0-dd96c3e77405",
   "metadata": {},
   "outputs": [],
   "source": []
  },
  {
   "cell_type": "code",
   "execution_count": 5,
   "id": "92051e70-3bfc-478a-8775-72165b699913",
   "metadata": {
    "tags": []
   },
   "outputs": [],
   "source": [
    "csv = pd.read_csv(path + 'meta.csv', delimiter=';')"
   ]
  },
  {
   "cell_type": "code",
   "execution_count": 63,
   "id": "7ec579c9-9ef8-4b8b-b990-98eccf5ef77e",
   "metadata": {
    "tags": []
   },
   "outputs": [
    {
     "data": {
      "text/html": [
       "<div>\n",
       "<style scoped>\n",
       "    .dataframe tbody tr th:only-of-type {\n",
       "        vertical-align: middle;\n",
       "    }\n",
       "\n",
       "    .dataframe tbody tr th {\n",
       "        vertical-align: top;\n",
       "    }\n",
       "\n",
       "    .dataframe thead th {\n",
       "        text-align: right;\n",
       "    }\n",
       "</style>\n",
       "<table border=\"1\" class=\"dataframe\">\n",
       "  <thead>\n",
       "    <tr style=\"text-align: right;\">\n",
       "      <th></th>\n",
       "      <th>image_id</th>\n",
       "      <th>age</th>\n",
       "      <th>gender</th>\n",
       "      <th>institute</th>\n",
       "      <th>study_type</th>\n",
       "      <th>split</th>\n",
       "    </tr>\n",
       "  </thead>\n",
       "  <tbody>\n",
       "    <tr>\n",
       "      <th>0</th>\n",
       "      <td>s0000</td>\n",
       "      <td>32</td>\n",
       "      <td>f</td>\n",
       "      <td>H</td>\n",
       "      <td>ct pelvis</td>\n",
       "      <td>val</td>\n",
       "    </tr>\n",
       "    <tr>\n",
       "      <th>1</th>\n",
       "      <td>s0001</td>\n",
       "      <td>59</td>\n",
       "      <td>f</td>\n",
       "      <td>H</td>\n",
       "      <td>ct abdomen-pelvis</td>\n",
       "      <td>train</td>\n",
       "    </tr>\n",
       "    <tr>\n",
       "      <th>2</th>\n",
       "      <td>s0002</td>\n",
       "      <td>49</td>\n",
       "      <td>f</td>\n",
       "      <td>H</td>\n",
       "      <td>ct thorax-neck</td>\n",
       "      <td>train</td>\n",
       "    </tr>\n",
       "    <tr>\n",
       "      <th>3</th>\n",
       "      <td>s0003</td>\n",
       "      <td>51</td>\n",
       "      <td>f</td>\n",
       "      <td>H</td>\n",
       "      <td>ct spine</td>\n",
       "      <td>train</td>\n",
       "    </tr>\n",
       "    <tr>\n",
       "      <th>4</th>\n",
       "      <td>s0004</td>\n",
       "      <td>72</td>\n",
       "      <td>f</td>\n",
       "      <td>C</td>\n",
       "      <td>ct thorax-abdomen-pelvis</td>\n",
       "      <td>train</td>\n",
       "    </tr>\n",
       "    <tr>\n",
       "      <th>...</th>\n",
       "      <td>...</td>\n",
       "      <td>...</td>\n",
       "      <td>...</td>\n",
       "      <td>...</td>\n",
       "      <td>...</td>\n",
       "      <td>...</td>\n",
       "    </tr>\n",
       "    <tr>\n",
       "      <th>1199</th>\n",
       "      <td>s1400</td>\n",
       "      <td>67</td>\n",
       "      <td>m</td>\n",
       "      <td>H</td>\n",
       "      <td>ct angiography thorax-abdomen-pelvis</td>\n",
       "      <td>train</td>\n",
       "    </tr>\n",
       "    <tr>\n",
       "      <th>1200</th>\n",
       "      <td>s1401</td>\n",
       "      <td>49</td>\n",
       "      <td>f</td>\n",
       "      <td>H</td>\n",
       "      <td>ct angiography abdomen-pelvis</td>\n",
       "      <td>train</td>\n",
       "    </tr>\n",
       "    <tr>\n",
       "      <th>1201</th>\n",
       "      <td>s1403</td>\n",
       "      <td>59</td>\n",
       "      <td>m</td>\n",
       "      <td>H</td>\n",
       "      <td>ct angiography abdomen-pelvis</td>\n",
       "      <td>train</td>\n",
       "    </tr>\n",
       "    <tr>\n",
       "      <th>1202</th>\n",
       "      <td>s1404</td>\n",
       "      <td>61</td>\n",
       "      <td>f</td>\n",
       "      <td>H</td>\n",
       "      <td>ct angiography thorax-abdomen-pelvis</td>\n",
       "      <td>train</td>\n",
       "    </tr>\n",
       "    <tr>\n",
       "      <th>1203</th>\n",
       "      <td>s1405</td>\n",
       "      <td>74</td>\n",
       "      <td>m</td>\n",
       "      <td>H</td>\n",
       "      <td>ct angiography abdomen-pelvis</td>\n",
       "      <td>train</td>\n",
       "    </tr>\n",
       "  </tbody>\n",
       "</table>\n",
       "<p>1204 rows × 6 columns</p>\n",
       "</div>"
      ],
      "text/plain": [
       "     image_id  age gender institute                            study_type   \n",
       "0       s0000   32      f         H                             ct pelvis  \\\n",
       "1       s0001   59      f         H                     ct abdomen-pelvis   \n",
       "2       s0002   49      f         H                        ct thorax-neck   \n",
       "3       s0003   51      f         H                              ct spine   \n",
       "4       s0004   72      f         C              ct thorax-abdomen-pelvis   \n",
       "...       ...  ...    ...       ...                                   ...   \n",
       "1199    s1400   67      m         H  ct angiography thorax-abdomen-pelvis   \n",
       "1200    s1401   49      f         H         ct angiography abdomen-pelvis   \n",
       "1201    s1403   59      m         H         ct angiography abdomen-pelvis   \n",
       "1202    s1404   61      f         H  ct angiography thorax-abdomen-pelvis   \n",
       "1203    s1405   74      m         H         ct angiography abdomen-pelvis   \n",
       "\n",
       "      split  \n",
       "0       val  \n",
       "1     train  \n",
       "2     train  \n",
       "3     train  \n",
       "4     train  \n",
       "...     ...  \n",
       "1199  train  \n",
       "1200  train  \n",
       "1201  train  \n",
       "1202  train  \n",
       "1203  train  \n",
       "\n",
       "[1204 rows x 6 columns]"
      ]
     },
     "execution_count": 63,
     "metadata": {},
     "output_type": "execute_result"
    }
   ],
   "source": [
    "csv"
   ]
  },
  {
   "cell_type": "code",
   "execution_count": null,
   "id": "b6fd1d8c-c79e-4b34-84c4-8278e235a3f3",
   "metadata": {},
   "outputs": [],
   "source": []
  },
  {
   "cell_type": "code",
   "execution_count": null,
   "id": "7b48442f-2327-4eb9-968d-8da9bb66d894",
   "metadata": {
    "tags": []
   },
   "outputs": [],
   "source": []
  },
  {
   "cell_type": "code",
   "execution_count": null,
   "id": "958edef1-8786-4961-83a9-abeb877f2f7b",
   "metadata": {
    "tags": []
   },
   "outputs": [],
   "source": []
  },
  {
   "cell_type": "code",
   "execution_count": 10,
   "id": "36074745-cf6b-4465-9a23-45effe81248c",
   "metadata": {
    "tags": []
   },
   "outputs": [],
   "source": [
    "import nibabel as nib"
   ]
  },
  {
   "cell_type": "code",
   "execution_count": 90,
   "id": "14ac0eb4-3ef2-4af2-8b0e-c32ccadbb3b4",
   "metadata": {
    "tags": []
   },
   "outputs": [
    {
     "data": {
      "application/vnd.jupyter.widget-view+json": {
       "model_id": "400c14c8d84d47fdaaaf8b404d3abcd4",
       "version_major": 2,
       "version_minor": 0
      },
      "text/plain": [
       "  0%|          | 0/1204 [00:00<?, ?it/s]"
      ]
     },
     "metadata": {},
     "output_type": "display_data"
    }
   ],
   "source": [
    "sizes = []\n",
    "for image_id in tqdm(csv.image_id):\n",
    "    g = nib.load(path + image_id + \"/ct.nii.gz\")\n",
    "    meta = {\n",
    "        'image_id': image_id,\n",
    "        'frame': list(range(g.shape[2])),\n",
    "        'frame_height':g.shape[0],\n",
    "        'frame_width': g.shape[1],\n",
    "    }\n",
    "    meta.update(dict(g.header))\n",
    "    sizes.append(meta)\n",
    "    #print(image_id, g.shape, g.get_data_dtype())"
   ]
  },
  {
   "cell_type": "code",
   "execution_count": null,
   "id": "43a5b932-22f6-483c-98fd-80a453761f9f",
   "metadata": {
    "tags": []
   },
   "outputs": [],
   "source": []
  },
  {
   "cell_type": "code",
   "execution_count": 91,
   "id": "5e1546af-a074-4e36-a35b-20b75285ac6a",
   "metadata": {
    "tags": []
   },
   "outputs": [],
   "source": [
    "df = pd.DataFrame(sizes)"
   ]
  },
  {
   "cell_type": "code",
   "execution_count": null,
   "id": "cbf47516-8f18-4fa0-ba94-5597c6a4cd38",
   "metadata": {
    "tags": []
   },
   "outputs": [],
   "source": []
  },
  {
   "cell_type": "code",
   "execution_count": 94,
   "id": "69c9890b-d799-4841-8e59-8974edd4baba",
   "metadata": {
    "tags": []
   },
   "outputs": [],
   "source": [
    "df = df.explode('frame')"
   ]
  },
  {
   "cell_type": "code",
   "execution_count": 95,
   "id": "d3195b66-414e-454e-b91b-ab7a5e8c1f5e",
   "metadata": {
    "tags": []
   },
   "outputs": [
    {
     "data": {
      "text/plain": [
       "312791"
      ]
     },
     "execution_count": 95,
     "metadata": {},
     "output_type": "execute_result"
    }
   ],
   "source": [
    "len(df)"
   ]
  },
  {
   "cell_type": "code",
   "execution_count": 96,
   "id": "c891e7fb-644d-4456-8e49-231e21fbffdc",
   "metadata": {
    "tags": []
   },
   "outputs": [
    {
     "data": {
      "text/html": [
       "<div>\n",
       "<style scoped>\n",
       "    .dataframe tbody tr th:only-of-type {\n",
       "        vertical-align: middle;\n",
       "    }\n",
       "\n",
       "    .dataframe tbody tr th {\n",
       "        vertical-align: top;\n",
       "    }\n",
       "\n",
       "    .dataframe thead th {\n",
       "        text-align: right;\n",
       "    }\n",
       "</style>\n",
       "<table border=\"1\" class=\"dataframe\">\n",
       "  <thead>\n",
       "    <tr style=\"text-align: right;\">\n",
       "      <th></th>\n",
       "      <th>image_id</th>\n",
       "      <th>frame</th>\n",
       "      <th>frame_height</th>\n",
       "      <th>frame_width</th>\n",
       "      <th>sizeof_hdr</th>\n",
       "      <th>data_type</th>\n",
       "      <th>db_name</th>\n",
       "      <th>extents</th>\n",
       "      <th>session_error</th>\n",
       "      <th>regular</th>\n",
       "      <th>...</th>\n",
       "      <th>quatern_c</th>\n",
       "      <th>quatern_d</th>\n",
       "      <th>qoffset_x</th>\n",
       "      <th>qoffset_y</th>\n",
       "      <th>qoffset_z</th>\n",
       "      <th>srow_x</th>\n",
       "      <th>srow_y</th>\n",
       "      <th>srow_z</th>\n",
       "      <th>intent_name</th>\n",
       "      <th>magic</th>\n",
       "    </tr>\n",
       "  </thead>\n",
       "  <tbody>\n",
       "    <tr>\n",
       "      <th>0</th>\n",
       "      <td>s0000</td>\n",
       "      <td>0</td>\n",
       "      <td>294</td>\n",
       "      <td>192</td>\n",
       "      <td>348</td>\n",
       "      <td>b''</td>\n",
       "      <td>b''</td>\n",
       "      <td>0</td>\n",
       "      <td>0</td>\n",
       "      <td>b''</td>\n",
       "      <td>...</td>\n",
       "      <td>0.0</td>\n",
       "      <td>-0.15948671</td>\n",
       "      <td>-251.3474</td>\n",
       "      <td>82.563995</td>\n",
       "      <td>93.09277</td>\n",
       "      <td>[1.4236406, 0.47218123, 0.0, -251.3474]</td>\n",
       "      <td>[-0.47249055, 1.4237434, 0.0, 82.563995]</td>\n",
       "      <td>[0.0, 0.0, 1.5, 93.09277]</td>\n",
       "      <td>b''</td>\n",
       "      <td>b'n+1'</td>\n",
       "    </tr>\n",
       "    <tr>\n",
       "      <th>0</th>\n",
       "      <td>s0000</td>\n",
       "      <td>1</td>\n",
       "      <td>294</td>\n",
       "      <td>192</td>\n",
       "      <td>348</td>\n",
       "      <td>b''</td>\n",
       "      <td>b''</td>\n",
       "      <td>0</td>\n",
       "      <td>0</td>\n",
       "      <td>b''</td>\n",
       "      <td>...</td>\n",
       "      <td>0.0</td>\n",
       "      <td>-0.15948671</td>\n",
       "      <td>-251.3474</td>\n",
       "      <td>82.563995</td>\n",
       "      <td>93.09277</td>\n",
       "      <td>[1.4236406, 0.47218123, 0.0, -251.3474]</td>\n",
       "      <td>[-0.47249055, 1.4237434, 0.0, 82.563995]</td>\n",
       "      <td>[0.0, 0.0, 1.5, 93.09277]</td>\n",
       "      <td>b''</td>\n",
       "      <td>b'n+1'</td>\n",
       "    </tr>\n",
       "    <tr>\n",
       "      <th>0</th>\n",
       "      <td>s0000</td>\n",
       "      <td>2</td>\n",
       "      <td>294</td>\n",
       "      <td>192</td>\n",
       "      <td>348</td>\n",
       "      <td>b''</td>\n",
       "      <td>b''</td>\n",
       "      <td>0</td>\n",
       "      <td>0</td>\n",
       "      <td>b''</td>\n",
       "      <td>...</td>\n",
       "      <td>0.0</td>\n",
       "      <td>-0.15948671</td>\n",
       "      <td>-251.3474</td>\n",
       "      <td>82.563995</td>\n",
       "      <td>93.09277</td>\n",
       "      <td>[1.4236406, 0.47218123, 0.0, -251.3474]</td>\n",
       "      <td>[-0.47249055, 1.4237434, 0.0, 82.563995]</td>\n",
       "      <td>[0.0, 0.0, 1.5, 93.09277]</td>\n",
       "      <td>b''</td>\n",
       "      <td>b'n+1'</td>\n",
       "    </tr>\n",
       "    <tr>\n",
       "      <th>0</th>\n",
       "      <td>s0000</td>\n",
       "      <td>3</td>\n",
       "      <td>294</td>\n",
       "      <td>192</td>\n",
       "      <td>348</td>\n",
       "      <td>b''</td>\n",
       "      <td>b''</td>\n",
       "      <td>0</td>\n",
       "      <td>0</td>\n",
       "      <td>b''</td>\n",
       "      <td>...</td>\n",
       "      <td>0.0</td>\n",
       "      <td>-0.15948671</td>\n",
       "      <td>-251.3474</td>\n",
       "      <td>82.563995</td>\n",
       "      <td>93.09277</td>\n",
       "      <td>[1.4236406, 0.47218123, 0.0, -251.3474]</td>\n",
       "      <td>[-0.47249055, 1.4237434, 0.0, 82.563995]</td>\n",
       "      <td>[0.0, 0.0, 1.5, 93.09277]</td>\n",
       "      <td>b''</td>\n",
       "      <td>b'n+1'</td>\n",
       "    </tr>\n",
       "    <tr>\n",
       "      <th>0</th>\n",
       "      <td>s0000</td>\n",
       "      <td>4</td>\n",
       "      <td>294</td>\n",
       "      <td>192</td>\n",
       "      <td>348</td>\n",
       "      <td>b''</td>\n",
       "      <td>b''</td>\n",
       "      <td>0</td>\n",
       "      <td>0</td>\n",
       "      <td>b''</td>\n",
       "      <td>...</td>\n",
       "      <td>0.0</td>\n",
       "      <td>-0.15948671</td>\n",
       "      <td>-251.3474</td>\n",
       "      <td>82.563995</td>\n",
       "      <td>93.09277</td>\n",
       "      <td>[1.4236406, 0.47218123, 0.0, -251.3474]</td>\n",
       "      <td>[-0.47249055, 1.4237434, 0.0, 82.563995]</td>\n",
       "      <td>[0.0, 0.0, 1.5, 93.09277]</td>\n",
       "      <td>b''</td>\n",
       "      <td>b'n+1'</td>\n",
       "    </tr>\n",
       "    <tr>\n",
       "      <th>...</th>\n",
       "      <td>...</td>\n",
       "      <td>...</td>\n",
       "      <td>...</td>\n",
       "      <td>...</td>\n",
       "      <td>...</td>\n",
       "      <td>...</td>\n",
       "      <td>...</td>\n",
       "      <td>...</td>\n",
       "      <td>...</td>\n",
       "      <td>...</td>\n",
       "      <td>...</td>\n",
       "      <td>...</td>\n",
       "      <td>...</td>\n",
       "      <td>...</td>\n",
       "      <td>...</td>\n",
       "      <td>...</td>\n",
       "      <td>...</td>\n",
       "      <td>...</td>\n",
       "      <td>...</td>\n",
       "      <td>...</td>\n",
       "      <td>...</td>\n",
       "    </tr>\n",
       "    <tr>\n",
       "      <th>1203</th>\n",
       "      <td>s1405</td>\n",
       "      <td>282</td>\n",
       "      <td>255</td>\n",
       "      <td>255</td>\n",
       "      <td>348</td>\n",
       "      <td>b''</td>\n",
       "      <td>b''</td>\n",
       "      <td>0</td>\n",
       "      <td>0</td>\n",
       "      <td>b''</td>\n",
       "      <td>...</td>\n",
       "      <td>0.0</td>\n",
       "      <td>0.0</td>\n",
       "      <td>-185.62695</td>\n",
       "      <td>-57.126953</td>\n",
       "      <td>30.6</td>\n",
       "      <td>[1.5, 0.0, 0.0, -185.62695]</td>\n",
       "      <td>[0.0, 1.5, 0.0, -57.126953]</td>\n",
       "      <td>[0.0, 0.0, 1.5, 30.6]</td>\n",
       "      <td>b''</td>\n",
       "      <td>b'n+1'</td>\n",
       "    </tr>\n",
       "    <tr>\n",
       "      <th>1203</th>\n",
       "      <td>s1405</td>\n",
       "      <td>283</td>\n",
       "      <td>255</td>\n",
       "      <td>255</td>\n",
       "      <td>348</td>\n",
       "      <td>b''</td>\n",
       "      <td>b''</td>\n",
       "      <td>0</td>\n",
       "      <td>0</td>\n",
       "      <td>b''</td>\n",
       "      <td>...</td>\n",
       "      <td>0.0</td>\n",
       "      <td>0.0</td>\n",
       "      <td>-185.62695</td>\n",
       "      <td>-57.126953</td>\n",
       "      <td>30.6</td>\n",
       "      <td>[1.5, 0.0, 0.0, -185.62695]</td>\n",
       "      <td>[0.0, 1.5, 0.0, -57.126953]</td>\n",
       "      <td>[0.0, 0.0, 1.5, 30.6]</td>\n",
       "      <td>b''</td>\n",
       "      <td>b'n+1'</td>\n",
       "    </tr>\n",
       "    <tr>\n",
       "      <th>1203</th>\n",
       "      <td>s1405</td>\n",
       "      <td>284</td>\n",
       "      <td>255</td>\n",
       "      <td>255</td>\n",
       "      <td>348</td>\n",
       "      <td>b''</td>\n",
       "      <td>b''</td>\n",
       "      <td>0</td>\n",
       "      <td>0</td>\n",
       "      <td>b''</td>\n",
       "      <td>...</td>\n",
       "      <td>0.0</td>\n",
       "      <td>0.0</td>\n",
       "      <td>-185.62695</td>\n",
       "      <td>-57.126953</td>\n",
       "      <td>30.6</td>\n",
       "      <td>[1.5, 0.0, 0.0, -185.62695]</td>\n",
       "      <td>[0.0, 1.5, 0.0, -57.126953]</td>\n",
       "      <td>[0.0, 0.0, 1.5, 30.6]</td>\n",
       "      <td>b''</td>\n",
       "      <td>b'n+1'</td>\n",
       "    </tr>\n",
       "    <tr>\n",
       "      <th>1203</th>\n",
       "      <td>s1405</td>\n",
       "      <td>285</td>\n",
       "      <td>255</td>\n",
       "      <td>255</td>\n",
       "      <td>348</td>\n",
       "      <td>b''</td>\n",
       "      <td>b''</td>\n",
       "      <td>0</td>\n",
       "      <td>0</td>\n",
       "      <td>b''</td>\n",
       "      <td>...</td>\n",
       "      <td>0.0</td>\n",
       "      <td>0.0</td>\n",
       "      <td>-185.62695</td>\n",
       "      <td>-57.126953</td>\n",
       "      <td>30.6</td>\n",
       "      <td>[1.5, 0.0, 0.0, -185.62695]</td>\n",
       "      <td>[0.0, 1.5, 0.0, -57.126953]</td>\n",
       "      <td>[0.0, 0.0, 1.5, 30.6]</td>\n",
       "      <td>b''</td>\n",
       "      <td>b'n+1'</td>\n",
       "    </tr>\n",
       "    <tr>\n",
       "      <th>1203</th>\n",
       "      <td>s1405</td>\n",
       "      <td>286</td>\n",
       "      <td>255</td>\n",
       "      <td>255</td>\n",
       "      <td>348</td>\n",
       "      <td>b''</td>\n",
       "      <td>b''</td>\n",
       "      <td>0</td>\n",
       "      <td>0</td>\n",
       "      <td>b''</td>\n",
       "      <td>...</td>\n",
       "      <td>0.0</td>\n",
       "      <td>0.0</td>\n",
       "      <td>-185.62695</td>\n",
       "      <td>-57.126953</td>\n",
       "      <td>30.6</td>\n",
       "      <td>[1.5, 0.0, 0.0, -185.62695]</td>\n",
       "      <td>[0.0, 1.5, 0.0, -57.126953]</td>\n",
       "      <td>[0.0, 0.0, 1.5, 30.6]</td>\n",
       "      <td>b''</td>\n",
       "      <td>b'n+1'</td>\n",
       "    </tr>\n",
       "  </tbody>\n",
       "</table>\n",
       "<p>312791 rows × 47 columns</p>\n",
       "</div>"
      ],
      "text/plain": [
       "     image_id frame  frame_height  frame_width sizeof_hdr data_type db_name   \n",
       "0       s0000     0           294          192        348       b''     b''  \\\n",
       "0       s0000     1           294          192        348       b''     b''   \n",
       "0       s0000     2           294          192        348       b''     b''   \n",
       "0       s0000     3           294          192        348       b''     b''   \n",
       "0       s0000     4           294          192        348       b''     b''   \n",
       "...       ...   ...           ...          ...        ...       ...     ...   \n",
       "1203    s1405   282           255          255        348       b''     b''   \n",
       "1203    s1405   283           255          255        348       b''     b''   \n",
       "1203    s1405   284           255          255        348       b''     b''   \n",
       "1203    s1405   285           255          255        348       b''     b''   \n",
       "1203    s1405   286           255          255        348       b''     b''   \n",
       "\n",
       "     extents session_error regular  ... quatern_c    quatern_d   qoffset_x   \n",
       "0          0             0     b''  ...       0.0  -0.15948671   -251.3474  \\\n",
       "0          0             0     b''  ...       0.0  -0.15948671   -251.3474   \n",
       "0          0             0     b''  ...       0.0  -0.15948671   -251.3474   \n",
       "0          0             0     b''  ...       0.0  -0.15948671   -251.3474   \n",
       "0          0             0     b''  ...       0.0  -0.15948671   -251.3474   \n",
       "...      ...           ...     ...  ...       ...          ...         ...   \n",
       "1203       0             0     b''  ...       0.0          0.0  -185.62695   \n",
       "1203       0             0     b''  ...       0.0          0.0  -185.62695   \n",
       "1203       0             0     b''  ...       0.0          0.0  -185.62695   \n",
       "1203       0             0     b''  ...       0.0          0.0  -185.62695   \n",
       "1203       0             0     b''  ...       0.0          0.0  -185.62695   \n",
       "\n",
       "       qoffset_y qoffset_z                                   srow_x   \n",
       "0      82.563995  93.09277  [1.4236406, 0.47218123, 0.0, -251.3474]  \\\n",
       "0      82.563995  93.09277  [1.4236406, 0.47218123, 0.0, -251.3474]   \n",
       "0      82.563995  93.09277  [1.4236406, 0.47218123, 0.0, -251.3474]   \n",
       "0      82.563995  93.09277  [1.4236406, 0.47218123, 0.0, -251.3474]   \n",
       "0      82.563995  93.09277  [1.4236406, 0.47218123, 0.0, -251.3474]   \n",
       "...          ...       ...                                      ...   \n",
       "1203  -57.126953      30.6              [1.5, 0.0, 0.0, -185.62695]   \n",
       "1203  -57.126953      30.6              [1.5, 0.0, 0.0, -185.62695]   \n",
       "1203  -57.126953      30.6              [1.5, 0.0, 0.0, -185.62695]   \n",
       "1203  -57.126953      30.6              [1.5, 0.0, 0.0, -185.62695]   \n",
       "1203  -57.126953      30.6              [1.5, 0.0, 0.0, -185.62695]   \n",
       "\n",
       "                                        srow_y                     srow_z   \n",
       "0     [-0.47249055, 1.4237434, 0.0, 82.563995]  [0.0, 0.0, 1.5, 93.09277]  \\\n",
       "0     [-0.47249055, 1.4237434, 0.0, 82.563995]  [0.0, 0.0, 1.5, 93.09277]   \n",
       "0     [-0.47249055, 1.4237434, 0.0, 82.563995]  [0.0, 0.0, 1.5, 93.09277]   \n",
       "0     [-0.47249055, 1.4237434, 0.0, 82.563995]  [0.0, 0.0, 1.5, 93.09277]   \n",
       "0     [-0.47249055, 1.4237434, 0.0, 82.563995]  [0.0, 0.0, 1.5, 93.09277]   \n",
       "...                                        ...                        ...   \n",
       "1203               [0.0, 1.5, 0.0, -57.126953]      [0.0, 0.0, 1.5, 30.6]   \n",
       "1203               [0.0, 1.5, 0.0, -57.126953]      [0.0, 0.0, 1.5, 30.6]   \n",
       "1203               [0.0, 1.5, 0.0, -57.126953]      [0.0, 0.0, 1.5, 30.6]   \n",
       "1203               [0.0, 1.5, 0.0, -57.126953]      [0.0, 0.0, 1.5, 30.6]   \n",
       "1203               [0.0, 1.5, 0.0, -57.126953]      [0.0, 0.0, 1.5, 30.6]   \n",
       "\n",
       "     intent_name   magic  \n",
       "0            b''  b'n+1'  \n",
       "0            b''  b'n+1'  \n",
       "0            b''  b'n+1'  \n",
       "0            b''  b'n+1'  \n",
       "0            b''  b'n+1'  \n",
       "...          ...     ...  \n",
       "1203         b''  b'n+1'  \n",
       "1203         b''  b'n+1'  \n",
       "1203         b''  b'n+1'  \n",
       "1203         b''  b'n+1'  \n",
       "1203         b''  b'n+1'  \n",
       "\n",
       "[312791 rows x 47 columns]"
      ]
     },
     "execution_count": 96,
     "metadata": {},
     "output_type": "execute_result"
    }
   ],
   "source": [
    "df"
   ]
  },
  {
   "cell_type": "code",
   "execution_count": 100,
   "id": "50da2fb8-4321-4b57-bb04-9166282c1c97",
   "metadata": {
    "tags": []
   },
   "outputs": [
    {
     "data": {
      "text/plain": [
       "47"
      ]
     },
     "execution_count": 100,
     "metadata": {},
     "output_type": "execute_result"
    }
   ],
   "source": [
    "df['frame_height'].min()"
   ]
  },
  {
   "cell_type": "code",
   "execution_count": 99,
   "id": "dd6f2969-9ff0-4b73-ada8-ea1b9177ffb6",
   "metadata": {
    "tags": []
   },
   "outputs": [
    {
     "data": {
      "text/plain": [
       "48"
      ]
     },
     "execution_count": 99,
     "metadata": {},
     "output_type": "execute_result"
    }
   ],
   "source": [
    "df['frame_width'].min()"
   ]
  },
  {
   "cell_type": "code",
   "execution_count": null,
   "id": "59dae11e-b2e6-463a-909d-d2fe524a5581",
   "metadata": {},
   "outputs": [],
   "source": []
  },
  {
   "cell_type": "code",
   "execution_count": null,
   "id": "39753214-b850-49b8-918a-3db5b2b19d5c",
   "metadata": {},
   "outputs": [],
   "source": []
  },
  {
   "cell_type": "code",
   "execution_count": null,
   "id": "d195b8d4-42d2-4050-a59b-b827509f6389",
   "metadata": {
    "tags": []
   },
   "outputs": [],
   "source": []
  },
  {
   "cell_type": "code",
   "execution_count": null,
   "id": "61de8d3d-b844-437e-a0a3-8fb4283978df",
   "metadata": {},
   "outputs": [],
   "source": []
  },
  {
   "cell_type": "code",
   "execution_count": null,
   "id": "6f7a46fd-eaca-4252-866d-4e1b729066c0",
   "metadata": {},
   "outputs": [],
   "source": []
  },
  {
   "cell_type": "code",
   "execution_count": 86,
   "id": "f7e09937-6dd6-4a54-93c3-fc08b06fad3f",
   "metadata": {
    "tags": []
   },
   "outputs": [],
   "source": [
    "g = nib.load(path + \"s0001/ct.nii.gz\")"
   ]
  },
  {
   "cell_type": "code",
   "execution_count": null,
   "id": "6eecbf82-268f-4fc6-93f5-bbe363f163e4",
   "metadata": {
    "tags": []
   },
   "outputs": [],
   "source": []
  },
  {
   "cell_type": "code",
   "execution_count": 87,
   "id": "f7cd1a65-6a11-4f7e-866d-cdba9e60840d",
   "metadata": {
    "tags": []
   },
   "outputs": [],
   "source": [
    "#g.get_fdata()"
   ]
  },
  {
   "cell_type": "code",
   "execution_count": 88,
   "id": "c7d3c6c6-259e-4fd3-80fe-703b608f98ea",
   "metadata": {
    "tags": []
   },
   "outputs": [],
   "source": [
    "img = g.get_fdata()"
   ]
  },
  {
   "cell_type": "code",
   "execution_count": null,
   "id": "748dceff-a96d-46a1-a09a-aaf7e2839af5",
   "metadata": {},
   "outputs": [],
   "source": []
  },
  {
   "cell_type": "code",
   "execution_count": 89,
   "id": "4f0c5ddd-11f3-4111-b10b-b81cb1a1dd06",
   "metadata": {
    "tags": []
   },
   "outputs": [
    {
     "data": {
      "image/png": "[encoded data removed]",
      "text/plain": [
       "<Figure size 640x480 with 1 Axes>"
      ]
     },
     "metadata": {},
     "output_type": "display_data"
    }
   ],
   "source": [
    "plt.imshow(img[:,:,50]);"
   ]
  },
  {
   "cell_type": "code",
   "execution_count": null,
   "id": "ca0277a0-f56f-4226-8a1d-0d501db29b68",
   "metadata": {},
   "outputs": [],
   "source": []
  },
  {
   "cell_type": "code",
   "execution_count": null,
   "id": "f3faf918-36a0-431e-bd41-f40141b4e66a",
   "metadata": {},
   "outputs": [],
   "source": []
  },
  {
   "cell_type": "code",
   "execution_count": 119,
   "id": "83408ff9-e649-49d6-87cd-fd0f89bdf2b4",
   "metadata": {},
   "outputs": [
    {
     "data": {
      "application/vnd.jupyter.widget-view+json": {
       "model_id": "ae5293c88afc4dd18dd16598640ccd6d",
       "version_major": 2,
       "version_minor": 0
      },
      "text/plain": [
       "  0%|          | 0/1204 [00:00<?, ?it/s]"
      ]
     },
     "metadata": {},
     "output_type": "display_data"
    }
   ],
   "source": [
    "d = ct_datasets.TotalSegmenter_Dataset(path)"
   ]
  },
  {
   "cell_type": "code",
   "execution_count": null,
   "id": "e795173a-27a3-4524-94fa-f1a4d9f1100a",
   "metadata": {},
   "outputs": [],
   "source": []
  },
  {
   "cell_type": "code",
   "execution_count": 60,
   "id": "c177332a-787d-4de1-898f-d74ba73c26a2",
   "metadata": {
    "tags": []
   },
   "outputs": [],
   "source": [
    "#d.csv"
   ]
  },
  {
   "cell_type": "code",
   "execution_count": 120,
   "id": "b27fe7b1-eac1-4ebc-afc0-087972c182c6",
   "metadata": {},
   "outputs": [
    {
     "data": {
      "text/plain": [
       "(255, 177)"
      ]
     },
     "execution_count": 120,
     "metadata": {},
     "output_type": "execute_result"
    }
   ],
   "source": [
    "a = d[1000]\n",
    "a.shape"
   ]
  },
  {
   "cell_type": "code",
   "execution_count": 121,
   "id": "050e3c7e-ac00-44b6-af4d-6e6f87e4c2ec",
   "metadata": {
    "tags": []
   },
   "outputs": [],
   "source": [
    "#d.csv.iloc[1000]"
   ]
  },
  {
   "cell_type": "code",
   "execution_count": 124,
   "id": "ed3d1717-face-4df2-983d-e1fda27a45e4",
   "metadata": {
    "tags": []
   },
   "outputs": [
    {
     "data": {
      "image/png": "[encoded data removed]",
      "text/plain": [
       "<Figure size 640x480 with 1 Axes>"
      ]
     },
     "metadata": {},
     "output_type": "display_data"
    }
   ],
   "source": [
    "plt.imshow(a, interpolation='none');"
   ]
  },
  {
   "cell_type": "code",
   "execution_count": null,
   "id": "dbc3471b-b46f-4913-a9bc-0215edb1231d",
   "metadata": {},
   "outputs": [],
   "source": []
  }
 ],
 "metadata": {
  "kernelspec": {
   "display_name": "Python 3 (ipykernel)",
   "language": "python",
   "name": "python3"
  },
  "language_info": {
   "codemirror_mode": {
    "name": "ipython",
    "version": 3
   },
   "file_extension": ".py",
   "mimetype": "text/x-python",
   "name": "python",
   "nbconvert_exporter": "python",
   "pygments_lexer": "ipython3",
   "version": "3.9.0"
  }
 },
 "nbformat": 4,
 "nbformat_minor": 5
}
