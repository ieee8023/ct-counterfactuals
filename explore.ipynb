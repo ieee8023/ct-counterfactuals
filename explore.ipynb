{
 "cells": [
  {
   "cell_type": "code",
   "execution_count": 52,
   "id": "3d7286fc-9b91-4fea-8a3f-94662a4e4643",
   "metadata": {
    "tags": []
   },
   "outputs": [
    {
     "name": "stdout",
     "output_type": "stream",
     "text": [
      "The autoreload extension is already loaded. To reload it, use:\n",
      "  %reload_ext autoreload\n"
     ]
    }
   ],
   "source": [
    "%load_ext autoreload\n",
    "%autoreload 2 "
   ]
  },
  {
   "cell_type": "code",
   "execution_count": 53,
   "id": "db1a9873-e3e1-4bb2-a227-4dcc67b87922",
   "metadata": {
    "tags": []
   },
   "outputs": [],
   "source": [
    "import pandas as pd\n",
    "import matplotlib.pyplot as plt\n",
    "from tqdm.autonotebook import tqdm"
   ]
  },
  {
   "cell_type": "code",
   "execution_count": null,
   "id": "f6759611-09e6-47aa-a189-3d92039ef3f4",
   "metadata": {},
   "outputs": [],
   "source": []
  },
  {
   "cell_type": "code",
   "execution_count": 51,
   "id": "545e6d12-b871-4ba5-b8cd-1369195f71b4",
   "metadata": {
    "tags": []
   },
   "outputs": [],
   "source": [
    "import ct_datasets"
   ]
  },
  {
   "cell_type": "code",
   "execution_count": 54,
   "id": "b0b78e04-f4cc-47de-98a3-ce83e433ce48",
   "metadata": {},
   "outputs": [],
   "source": [
    "dd = ct_datasets.get_data(\"total\")"
   ]
  },
  {
   "cell_type": "code",
   "execution_count": 88,
   "id": "15a2de7f-774c-405a-ac5d-3941d3bf5171",
   "metadata": {
    "tags": []
   },
   "outputs": [
    {
     "name": "stdout",
     "output_type": "stream",
     "text": [
      "1.37 ms ± 8.02 µs per loop (mean ± std. dev. of 7 runs, 1,000 loops each)\n"
     ]
    }
   ],
   "source": [
    "%timeit a = dd[0]"
   ]
  },
  {
   "cell_type": "code",
   "execution_count": 87,
   "id": "f2f4ca4f-b37b-4903-8688-23bcd3b15347",
   "metadata": {
    "tags": []
   },
   "outputs": [
    {
     "data": {
      "text/plain": [
       "{'img': array([[-1024., -1024., -1024., ..., -1024., -1024., -1024.],\n",
       "        [-1024., -1024., -1024., ..., -1024., -1024., -1024.],\n",
       "        [-1024., -1024., -1024., ..., -1024., -1024., -1024.],\n",
       "        ...,\n",
       "        [-1024., -1024., -1024., ..., -1024., -1024., -1024.],\n",
       "        [-1024., -1024., -1024., ..., -1024., -1024., -1024.],\n",
       "        [-1024., -1024., -1024., ..., -1024., -1024., -1024.]]),\n",
       " 'lab': array([], dtype=float64),\n",
       " 'source': 0}"
      ]
     },
     "execution_count": 87,
     "metadata": {},
     "output_type": "execute_result"
    }
   ],
   "source": [
    "a"
   ]
  },
  {
   "cell_type": "code",
   "execution_count": 85,
   "id": "f0360d15-0e08-4c38-89f3-5d8656ffdb14",
   "metadata": {
    "tags": []
   },
   "outputs": [
    {
     "data": {
      "text/plain": [
       "NpzFile '/home/users/joecohen/scratch/data-scratch/Totalsegmentator_dataset//cache//s0000_0.npz' with keys: arr_0"
      ]
     },
     "execution_count": 85,
     "metadata": {},
     "output_type": "execute_result"
    }
   ],
   "source": [
    "a['img']"
   ]
  },
  {
   "cell_type": "code",
   "execution_count": null,
   "id": "7a511cde-0092-415f-89b0-c82c97d62e99",
   "metadata": {
    "tags": []
   },
   "outputs": [],
   "source": []
  },
  {
   "cell_type": "code",
   "execution_count": 89,
   "id": "875768dd-99d8-4ba3-b138-07107fd4405c",
   "metadata": {
    "tags": []
   },
   "outputs": [],
   "source": [
    "# for image_id, row in dd.csv.groupby('image_id'):\n",
    "#     for frame in row.frame:\n",
    "    "
   ]
  },
  {
   "cell_type": "code",
   "execution_count": null,
   "id": "faf5c5ac-51cd-41cb-bcfe-0a1350ad4484",
   "metadata": {},
   "outputs": [],
   "source": []
  },
  {
   "cell_type": "code",
   "execution_count": 52,
   "id": "879fb715-beb6-4b2f-a7b9-3005c3396f4f",
   "metadata": {},
   "outputs": [
    {
     "data": {
      "text/plain": [
       "{'from_cache': True,\n",
       " 'img': array([[-1024., -1024., -1024., ..., -1024., -1024., -1024.],\n",
       "        [-1024., -1024., -1024., ..., -1024., -1024., -1024.],\n",
       "        [-1024., -1024., -1024., ..., -1024., -1024., -1024.],\n",
       "        ...,\n",
       "        [-1024., -1024., -1024., ..., -1024., -1024., -1024.],\n",
       "        [-1024., -1024., -1024., ..., -1024., -1024., -1024.],\n",
       "        [-1024., -1024., -1024., ..., -1024., -1024., -1024.]]),\n",
       " 'lab': array([], dtype=float64),\n",
       " 'source': 0}"
      ]
     },
     "execution_count": 52,
     "metadata": {},
     "output_type": "execute_result"
    }
   ],
   "source": [
    "dd[0]"
   ]
  },
  {
   "cell_type": "code",
   "execution_count": null,
   "id": "c7e3cbf3-a4ef-40d5-86d4-dc4529b8e409",
   "metadata": {},
   "outputs": [],
   "source": []
  },
  {
   "cell_type": "code",
   "execution_count": 49,
   "id": "003d4fd9-9b86-44d1-b285-ef74c3db7fb9",
   "metadata": {
    "tags": []
   },
   "outputs": [
    {
     "name": "stdout",
     "output_type": "stream",
     "text": [
      "98.6 ms ± 44.3 ms per loop (mean ± std. dev. of 7 runs, 10 loops each)\n"
     ]
    }
   ],
   "source": [
    "%timeit e = dd[0]"
   ]
  },
  {
   "cell_type": "code",
   "execution_count": 32,
   "id": "1cf0d9be-da1f-4931-9055-badd531296dd",
   "metadata": {
    "tags": []
   },
   "outputs": [
    {
     "name": "stdout",
     "output_type": "stream",
     "text": [
      "cache\n",
      "cache\n",
      "cache\n",
      "cache\n",
      "cache\n",
      "cache\n",
      "cache\n",
      "179 µs ± 103 µs per loop (mean ± std. dev. of 7 runs, 1 loop each)\n"
     ]
    }
   ],
   "source": [
    "%timeit e = dd[1]"
   ]
  },
  {
   "cell_type": "code",
   "execution_count": null,
   "id": "7cad1ba3-587f-4dea-9b92-78cf1c3e923c",
   "metadata": {},
   "outputs": [],
   "source": []
  },
  {
   "cell_type": "code",
   "execution_count": 27,
   "id": "85748d63-65c8-468d-b576-ee7dcfd75809",
   "metadata": {
    "tags": []
   },
   "outputs": [
    {
     "data": {
      "text/plain": [
       "(294, 192, 3)"
      ]
     },
     "execution_count": 27,
     "metadata": {},
     "output_type": "execute_result"
    }
   ],
   "source": [
    "e['img'][...,None].repeat(3,2).shape"
   ]
  },
  {
   "cell_type": "code",
   "execution_count": null,
   "id": "37d35e4e-d399-451c-a700-519bf3024f31",
   "metadata": {},
   "outputs": [],
   "source": []
  },
  {
   "cell_type": "code",
   "execution_count": null,
   "id": "2d619287-32e9-4e6e-b55a-17c52a903f84",
   "metadata": {},
   "outputs": [],
   "source": []
  },
  {
   "cell_type": "code",
   "execution_count": 93,
   "id": "21540148-18f4-4338-b0a5-e502d6ccc7a2",
   "metadata": {
    "tags": []
   },
   "outputs": [
    {
     "data": {
      "text/plain": [
       "image_id                         s0864\n",
       "age                                 55\n",
       "gender                               f\n",
       "institute                            A\n",
       "study_type    ct thorax-abdomen-pelvis\n",
       "split                            train\n",
       "Name: 744, dtype: object"
      ]
     },
     "execution_count": 93,
     "metadata": {},
     "output_type": "execute_result"
    }
   ],
   "source": [
    "dd.datasets[0].raw_csv.iloc[744]"
   ]
  },
  {
   "cell_type": "code",
   "execution_count": 101,
   "id": "2d2047ec-0bb3-4db5-888e-037d0c579693",
   "metadata": {
    "tags": []
   },
   "outputs": [],
   "source": [
    "broken_zips = ['s0864']"
   ]
  },
  {
   "cell_type": "code",
   "execution_count": 104,
   "id": "438f6036-cab2-453c-a040-6605875f6ed7",
   "metadata": {
    "tags": []
   },
   "outputs": [],
   "source": [
    "csv = dd.datasets[0].raw_csv[~dd.datasets[0].raw_csv.image_id.isin(broken_zips)]"
   ]
  },
  {
   "cell_type": "code",
   "execution_count": 100,
   "id": "27add449-0289-4866-83d0-5b3509096330",
   "metadata": {
    "tags": []
   },
   "outputs": [
    {
     "data": {
      "text/plain": [
       "0       s0000\n",
       "1       s0001\n",
       "2       s0002\n",
       "3       s0003\n",
       "4       s0004\n",
       "        ...  \n",
       "1199    s1400\n",
       "1200    s1401\n",
       "1201    s1403\n",
       "1202    s1404\n",
       "1203    s1405\n",
       "Name: image_id, Length: 1204, dtype: object"
      ]
     },
     "execution_count": 100,
     "metadata": {},
     "output_type": "execute_result"
    }
   ],
   "source": [
    "~dd.datasets[0].raw_csv.image_id.isin()"
   ]
  },
  {
   "cell_type": "code",
   "execution_count": 105,
   "id": "1bb6eab0-d056-42e4-bc88-0616bdd69380",
   "metadata": {
    "tags": []
   },
   "outputs": [
    {
     "data": {
      "text/plain": [
       "0       s0000\n",
       "1       s0001\n",
       "2       s0002\n",
       "3       s0003\n",
       "4       s0004\n",
       "        ...  \n",
       "1199    s1400\n",
       "1200    s1401\n",
       "1201    s1403\n",
       "1202    s1404\n",
       "1203    s1405\n",
       "Name: image_id, Length: 1203, dtype: object"
      ]
     },
     "execution_count": 105,
     "metadata": {},
     "output_type": "execute_result"
    }
   ],
   "source": [
    "csv.image_id"
   ]
  },
  {
   "cell_type": "code",
   "execution_count": 46,
   "id": "00391948-d886-40bb-8cd8-338f3efd7a4a",
   "metadata": {
    "tags": []
   },
   "outputs": [],
   "source": [
    "import nibabel as nib"
   ]
  },
  {
   "cell_type": "code",
   "execution_count": 99,
   "id": "1ce95ee6-03a4-4ddc-a6a1-a4315df1fee3",
   "metadata": {
    "tags": []
   },
   "outputs": [],
   "source": [
    "#path = \"/home/users/joecohen/group/joecohen/Totalsegmentator_dataset/\""
   ]
  },
  {
   "cell_type": "code",
   "execution_count": 70,
   "id": "32940c3e-b8bf-4034-bf6f-5c3dad60bb00",
   "metadata": {
    "tags": []
   },
   "outputs": [],
   "source": [
    "path = \"/home/users/joecohen/scratch/data-scratch/Totalsegmentator_dataset/\""
   ]
  },
  {
   "cell_type": "code",
   "execution_count": 108,
   "id": "9b2ed634-6981-4d93-bba8-db9d6cfa9e01",
   "metadata": {
    "tags": []
   },
   "outputs": [
    {
     "data": {
      "application/vnd.jupyter.widget-view+json": {
       "model_id": "cc9de84ac18b479795f8ec4b53aec528",
       "version_major": 2,
       "version_minor": 0
      },
      "text/plain": [
       "  0%|          | 0/429 [00:00<?, ?it/s]"
      ]
     },
     "metadata": {},
     "output_type": "display_data"
    }
   ],
   "source": [
    "for iid in tqdm(csv.image_id[774:]):\n",
    "    a = nib.load(path + iid + \"/ct.nii.gz\")\n",
    "    b = a.get_fdata()"
   ]
  },
  {
   "cell_type": "code",
   "execution_count": 97,
   "id": "965fa213-853d-490e-b844-4c847f33daf2",
   "metadata": {
    "tags": []
   },
   "outputs": [],
   "source": [
    "a = nib.load(path + \"s0864/ct.nii.gz\")"
   ]
  },
  {
   "cell_type": "code",
   "execution_count": 98,
   "id": "d8ce5e1c-656a-4ac5-9100-b6b2877c0b3d",
   "metadata": {
    "tags": []
   },
   "outputs": [
    {
     "ename": "BadGzipFile",
     "evalue": "CRC check failed 0x5ab25329 != 0x84f031a9",
     "output_type": "error",
     "traceback": [
      "\u001b[0;31m---------------------------------------------------------------------------\u001b[0m",
      "\u001b[0;31mBadGzipFile\u001b[0m                               Traceback (most recent call last)",
      "Cell \u001b[0;32mIn[98], line 1\u001b[0m\n\u001b[0;32m----> 1\u001b[0m b \u001b[38;5;241m=\u001b[39m \u001b[43ma\u001b[49m\u001b[38;5;241;43m.\u001b[39;49m\u001b[43mget_fdata\u001b[49m\u001b[43m(\u001b[49m\u001b[43m)\u001b[49m\n",
      "File \u001b[0;32m~/.local/lib/python3.9/site-packages/nibabel/dataobj_images.py:373\u001b[0m, in \u001b[0;36mDataobjImage.get_fdata\u001b[0;34m(self, caching, dtype)\u001b[0m\n\u001b[1;32m    369\u001b[0m         \u001b[38;5;28;01mreturn\u001b[39;00m \u001b[38;5;28mself\u001b[39m\u001b[38;5;241m.\u001b[39m_fdata_cache\n\u001b[1;32m    370\u001b[0m \u001b[38;5;66;03m# Always return requested data type\u001b[39;00m\n\u001b[1;32m    371\u001b[0m \u001b[38;5;66;03m# For array proxies, will attempt to confine data array to dtype\u001b[39;00m\n\u001b[1;32m    372\u001b[0m \u001b[38;5;66;03m# during scaling\u001b[39;00m\n\u001b[0;32m--> 373\u001b[0m data \u001b[38;5;241m=\u001b[39m \u001b[43mnp\u001b[49m\u001b[38;5;241;43m.\u001b[39;49m\u001b[43masanyarray\u001b[49m\u001b[43m(\u001b[49m\u001b[38;5;28;43mself\u001b[39;49m\u001b[38;5;241;43m.\u001b[39;49m\u001b[43m_dataobj\u001b[49m\u001b[43m,\u001b[49m\u001b[43m \u001b[49m\u001b[43mdtype\u001b[49m\u001b[38;5;241;43m=\u001b[39;49m\u001b[43mdtype\u001b[49m\u001b[43m)\u001b[49m\n\u001b[1;32m    374\u001b[0m \u001b[38;5;28;01mif\u001b[39;00m caching \u001b[38;5;241m==\u001b[39m \u001b[38;5;124m'\u001b[39m\u001b[38;5;124mfill\u001b[39m\u001b[38;5;124m'\u001b[39m:\n\u001b[1;32m    375\u001b[0m     \u001b[38;5;28mself\u001b[39m\u001b[38;5;241m.\u001b[39m_fdata_cache \u001b[38;5;241m=\u001b[39m data\n",
      "File \u001b[0;32m~/.local/lib/python3.9/site-packages/nibabel/arrayproxy.py:439\u001b[0m, in \u001b[0;36mArrayProxy.__array__\u001b[0;34m(self, dtype)\u001b[0m\n\u001b[1;32m    418\u001b[0m \u001b[38;5;28;01mdef\u001b[39;00m \u001b[38;5;21m__array__\u001b[39m(\u001b[38;5;28mself\u001b[39m, dtype\u001b[38;5;241m=\u001b[39m\u001b[38;5;28;01mNone\u001b[39;00m):\n\u001b[1;32m    419\u001b[0m \u001b[38;5;250m    \u001b[39m\u001b[38;5;124;03m\"\"\"Read data from file and apply scaling, casting to ``dtype``\u001b[39;00m\n\u001b[1;32m    420\u001b[0m \n\u001b[1;32m    421\u001b[0m \u001b[38;5;124;03m    If ``dtype`` is unspecified, the dtype of the returned array is the\u001b[39;00m\n\u001b[0;32m   (...)\u001b[0m\n\u001b[1;32m    437\u001b[0m \u001b[38;5;124;03m        Scaled image data with type `dtype`.\u001b[39;00m\n\u001b[1;32m    438\u001b[0m \u001b[38;5;124;03m    \"\"\"\u001b[39;00m\n\u001b[0;32m--> 439\u001b[0m     arr \u001b[38;5;241m=\u001b[39m \u001b[38;5;28;43mself\u001b[39;49m\u001b[38;5;241;43m.\u001b[39;49m\u001b[43m_get_scaled\u001b[49m\u001b[43m(\u001b[49m\u001b[43mdtype\u001b[49m\u001b[38;5;241;43m=\u001b[39;49m\u001b[43mdtype\u001b[49m\u001b[43m,\u001b[49m\u001b[43m \u001b[49m\u001b[43mslicer\u001b[49m\u001b[38;5;241;43m=\u001b[39;49m\u001b[43m(\u001b[49m\u001b[43m)\u001b[49m\u001b[43m)\u001b[49m\n\u001b[1;32m    440\u001b[0m     \u001b[38;5;28;01mif\u001b[39;00m dtype \u001b[38;5;129;01mis\u001b[39;00m \u001b[38;5;129;01mnot\u001b[39;00m \u001b[38;5;28;01mNone\u001b[39;00m:\n\u001b[1;32m    441\u001b[0m         arr \u001b[38;5;241m=\u001b[39m arr\u001b[38;5;241m.\u001b[39mastype(dtype, copy\u001b[38;5;241m=\u001b[39m\u001b[38;5;28;01mFalse\u001b[39;00m)\n",
      "File \u001b[0;32m~/.local/lib/python3.9/site-packages/nibabel/arrayproxy.py:406\u001b[0m, in \u001b[0;36mArrayProxy._get_scaled\u001b[0;34m(self, dtype, slicer)\u001b[0m\n\u001b[1;32m    404\u001b[0m     scl_inter \u001b[38;5;241m=\u001b[39m scl_inter\u001b[38;5;241m.\u001b[39mastype(use_dtype)\n\u001b[1;32m    405\u001b[0m \u001b[38;5;66;03m# Read array and upcast as necessary for big slopes, intercepts\u001b[39;00m\n\u001b[0;32m--> 406\u001b[0m scaled \u001b[38;5;241m=\u001b[39m apply_read_scaling(\u001b[38;5;28;43mself\u001b[39;49m\u001b[38;5;241;43m.\u001b[39;49m\u001b[43m_get_unscaled\u001b[49m\u001b[43m(\u001b[49m\u001b[43mslicer\u001b[49m\u001b[38;5;241;43m=\u001b[39;49m\u001b[43mslicer\u001b[49m\u001b[43m)\u001b[49m, scl_slope, scl_inter)\n\u001b[1;32m    407\u001b[0m \u001b[38;5;28;01mif\u001b[39;00m dtype \u001b[38;5;129;01mis\u001b[39;00m \u001b[38;5;129;01mnot\u001b[39;00m \u001b[38;5;28;01mNone\u001b[39;00m:\n\u001b[1;32m    408\u001b[0m     scaled \u001b[38;5;241m=\u001b[39m scaled\u001b[38;5;241m.\u001b[39mastype(np\u001b[38;5;241m.\u001b[39mpromote_types(scaled\u001b[38;5;241m.\u001b[39mdtype, dtype), copy\u001b[38;5;241m=\u001b[39m\u001b[38;5;28;01mFalse\u001b[39;00m)\n",
      "File \u001b[0;32m~/.local/lib/python3.9/site-packages/nibabel/arrayproxy.py:376\u001b[0m, in \u001b[0;36mArrayProxy._get_unscaled\u001b[0;34m(self, slicer)\u001b[0m\n\u001b[1;32m    372\u001b[0m \u001b[38;5;28;01mif\u001b[39;00m canonical_slicers(slicer, \u001b[38;5;28mself\u001b[39m\u001b[38;5;241m.\u001b[39m_shape, \u001b[38;5;28;01mFalse\u001b[39;00m) \u001b[38;5;241m==\u001b[39m canonical_slicers(\n\u001b[1;32m    373\u001b[0m     (), \u001b[38;5;28mself\u001b[39m\u001b[38;5;241m.\u001b[39m_shape, \u001b[38;5;28;01mFalse\u001b[39;00m\n\u001b[1;32m    374\u001b[0m ):\n\u001b[1;32m    375\u001b[0m     \u001b[38;5;28;01mwith\u001b[39;00m \u001b[38;5;28mself\u001b[39m\u001b[38;5;241m.\u001b[39m_get_fileobj() \u001b[38;5;28;01mas\u001b[39;00m fileobj, \u001b[38;5;28mself\u001b[39m\u001b[38;5;241m.\u001b[39m_lock:\n\u001b[0;32m--> 376\u001b[0m         \u001b[38;5;28;01mreturn\u001b[39;00m \u001b[43marray_from_file\u001b[49m\u001b[43m(\u001b[49m\n\u001b[1;32m    377\u001b[0m \u001b[43m            \u001b[49m\u001b[38;5;28;43mself\u001b[39;49m\u001b[38;5;241;43m.\u001b[39;49m\u001b[43m_shape\u001b[49m\u001b[43m,\u001b[49m\n\u001b[1;32m    378\u001b[0m \u001b[43m            \u001b[49m\u001b[38;5;28;43mself\u001b[39;49m\u001b[38;5;241;43m.\u001b[39;49m\u001b[43m_dtype\u001b[49m\u001b[43m,\u001b[49m\n\u001b[1;32m    379\u001b[0m \u001b[43m            \u001b[49m\u001b[43mfileobj\u001b[49m\u001b[43m,\u001b[49m\n\u001b[1;32m    380\u001b[0m \u001b[43m            \u001b[49m\u001b[43moffset\u001b[49m\u001b[38;5;241;43m=\u001b[39;49m\u001b[38;5;28;43mself\u001b[39;49m\u001b[38;5;241;43m.\u001b[39;49m\u001b[43m_offset\u001b[49m\u001b[43m,\u001b[49m\n\u001b[1;32m    381\u001b[0m \u001b[43m            \u001b[49m\u001b[43morder\u001b[49m\u001b[38;5;241;43m=\u001b[39;49m\u001b[38;5;28;43mself\u001b[39;49m\u001b[38;5;241;43m.\u001b[39;49m\u001b[43morder\u001b[49m\u001b[43m,\u001b[49m\n\u001b[1;32m    382\u001b[0m \u001b[43m            \u001b[49m\u001b[43mmmap\u001b[49m\u001b[38;5;241;43m=\u001b[39;49m\u001b[38;5;28;43mself\u001b[39;49m\u001b[38;5;241;43m.\u001b[39;49m\u001b[43m_mmap\u001b[49m\u001b[43m,\u001b[49m\n\u001b[1;32m    383\u001b[0m \u001b[43m        \u001b[49m\u001b[43m)\u001b[49m\n\u001b[1;32m    384\u001b[0m \u001b[38;5;28;01mwith\u001b[39;00m \u001b[38;5;28mself\u001b[39m\u001b[38;5;241m.\u001b[39m_get_fileobj() \u001b[38;5;28;01mas\u001b[39;00m fileobj:\n\u001b[1;32m    385\u001b[0m     \u001b[38;5;28;01mreturn\u001b[39;00m fileslice(\n\u001b[1;32m    386\u001b[0m         fileobj,\n\u001b[1;32m    387\u001b[0m         slicer,\n\u001b[0;32m   (...)\u001b[0m\n\u001b[1;32m    392\u001b[0m         lock\u001b[38;5;241m=\u001b[39m\u001b[38;5;28mself\u001b[39m\u001b[38;5;241m.\u001b[39m_lock,\n\u001b[1;32m    393\u001b[0m     )\n",
      "File \u001b[0;32m~/.local/lib/python3.9/site-packages/nibabel/volumeutils.py:465\u001b[0m, in \u001b[0;36marray_from_file\u001b[0;34m(shape, in_dtype, infile, offset, order, mmap)\u001b[0m\n\u001b[1;32m    463\u001b[0m \u001b[38;5;28;01mif\u001b[39;00m \u001b[38;5;28mhasattr\u001b[39m(infile, \u001b[38;5;124m'\u001b[39m\u001b[38;5;124mreadinto\u001b[39m\u001b[38;5;124m'\u001b[39m):\n\u001b[1;32m    464\u001b[0m     data_bytes \u001b[38;5;241m=\u001b[39m \u001b[38;5;28mbytearray\u001b[39m(n_bytes)\n\u001b[0;32m--> 465\u001b[0m     n_read \u001b[38;5;241m=\u001b[39m \u001b[43minfile\u001b[49m\u001b[38;5;241;43m.\u001b[39;49m\u001b[43mreadinto\u001b[49m\u001b[43m(\u001b[49m\u001b[43mdata_bytes\u001b[49m\u001b[43m)\u001b[49m\n\u001b[1;32m    466\u001b[0m     needs_copy \u001b[38;5;241m=\u001b[39m \u001b[38;5;28;01mFalse\u001b[39;00m\n\u001b[1;32m    467\u001b[0m \u001b[38;5;28;01melse\u001b[39;00m:\n",
      "File \u001b[0;32m/share/software/user/open/python/3.9.0/lib/python3.9/gzip.py:300\u001b[0m, in \u001b[0;36mGzipFile.read\u001b[0;34m(self, size)\u001b[0m\n\u001b[1;32m    298\u001b[0m     \u001b[38;5;28;01mimport\u001b[39;00m \u001b[38;5;21;01merrno\u001b[39;00m\n\u001b[1;32m    299\u001b[0m     \u001b[38;5;28;01mraise\u001b[39;00m \u001b[38;5;167;01mOSError\u001b[39;00m(errno\u001b[38;5;241m.\u001b[39mEBADF, \u001b[38;5;124m\"\u001b[39m\u001b[38;5;124mread() on write-only GzipFile object\u001b[39m\u001b[38;5;124m\"\u001b[39m)\n\u001b[0;32m--> 300\u001b[0m \u001b[38;5;28;01mreturn\u001b[39;00m \u001b[38;5;28;43mself\u001b[39;49m\u001b[38;5;241;43m.\u001b[39;49m\u001b[43m_buffer\u001b[49m\u001b[38;5;241;43m.\u001b[39;49m\u001b[43mread\u001b[49m\u001b[43m(\u001b[49m\u001b[43msize\u001b[49m\u001b[43m)\u001b[49m\n",
      "File \u001b[0;32m/share/software/user/open/python/3.9.0/lib/python3.9/_compression.py:68\u001b[0m, in \u001b[0;36mDecompressReader.readinto\u001b[0;34m(self, b)\u001b[0m\n\u001b[1;32m     66\u001b[0m \u001b[38;5;28;01mdef\u001b[39;00m \u001b[38;5;21mreadinto\u001b[39m(\u001b[38;5;28mself\u001b[39m, b):\n\u001b[1;32m     67\u001b[0m     \u001b[38;5;28;01mwith\u001b[39;00m \u001b[38;5;28mmemoryview\u001b[39m(b) \u001b[38;5;28;01mas\u001b[39;00m view, view\u001b[38;5;241m.\u001b[39mcast(\u001b[38;5;124m\"\u001b[39m\u001b[38;5;124mB\u001b[39m\u001b[38;5;124m\"\u001b[39m) \u001b[38;5;28;01mas\u001b[39;00m byte_view:\n\u001b[0;32m---> 68\u001b[0m         data \u001b[38;5;241m=\u001b[39m \u001b[38;5;28;43mself\u001b[39;49m\u001b[38;5;241;43m.\u001b[39;49m\u001b[43mread\u001b[49m\u001b[43m(\u001b[49m\u001b[38;5;28;43mlen\u001b[39;49m\u001b[43m(\u001b[49m\u001b[43mbyte_view\u001b[49m\u001b[43m)\u001b[49m\u001b[43m)\u001b[49m\n\u001b[1;32m     69\u001b[0m         byte_view[:\u001b[38;5;28mlen\u001b[39m(data)] \u001b[38;5;241m=\u001b[39m data\n\u001b[1;32m     70\u001b[0m     \u001b[38;5;28;01mreturn\u001b[39;00m \u001b[38;5;28mlen\u001b[39m(data)\n",
      "File \u001b[0;32m/share/software/user/open/python/3.9.0/lib/python3.9/gzip.py:478\u001b[0m, in \u001b[0;36m_GzipReader.read\u001b[0;34m(self, size)\u001b[0m\n\u001b[1;32m    472\u001b[0m \u001b[38;5;28;01mwhile\u001b[39;00m \u001b[38;5;28;01mTrue\u001b[39;00m:\n\u001b[1;32m    473\u001b[0m     \u001b[38;5;28;01mif\u001b[39;00m \u001b[38;5;28mself\u001b[39m\u001b[38;5;241m.\u001b[39m_decompressor\u001b[38;5;241m.\u001b[39meof:\n\u001b[1;32m    474\u001b[0m         \u001b[38;5;66;03m# Ending case: we've come to the end of a member in the file,\u001b[39;00m\n\u001b[1;32m    475\u001b[0m         \u001b[38;5;66;03m# so finish up this member, and read a new gzip header.\u001b[39;00m\n\u001b[1;32m    476\u001b[0m         \u001b[38;5;66;03m# Check the CRC and file size, and set the flag so we read\u001b[39;00m\n\u001b[1;32m    477\u001b[0m         \u001b[38;5;66;03m# a new member\u001b[39;00m\n\u001b[0;32m--> 478\u001b[0m         \u001b[38;5;28;43mself\u001b[39;49m\u001b[38;5;241;43m.\u001b[39;49m\u001b[43m_read_eof\u001b[49m\u001b[43m(\u001b[49m\u001b[43m)\u001b[49m\n\u001b[1;32m    479\u001b[0m         \u001b[38;5;28mself\u001b[39m\u001b[38;5;241m.\u001b[39m_new_member \u001b[38;5;241m=\u001b[39m \u001b[38;5;28;01mTrue\u001b[39;00m\n\u001b[1;32m    480\u001b[0m         \u001b[38;5;28mself\u001b[39m\u001b[38;5;241m.\u001b[39m_decompressor \u001b[38;5;241m=\u001b[39m \u001b[38;5;28mself\u001b[39m\u001b[38;5;241m.\u001b[39m_decomp_factory(\n\u001b[1;32m    481\u001b[0m             \u001b[38;5;241m*\u001b[39m\u001b[38;5;241m*\u001b[39m\u001b[38;5;28mself\u001b[39m\u001b[38;5;241m.\u001b[39m_decomp_args)\n",
      "File \u001b[0;32m/share/software/user/open/python/3.9.0/lib/python3.9/gzip.py:524\u001b[0m, in \u001b[0;36m_GzipReader._read_eof\u001b[0;34m(self)\u001b[0m\n\u001b[1;32m    522\u001b[0m crc32, isize \u001b[38;5;241m=\u001b[39m struct\u001b[38;5;241m.\u001b[39munpack(\u001b[38;5;124m\"\u001b[39m\u001b[38;5;124m<II\u001b[39m\u001b[38;5;124m\"\u001b[39m, \u001b[38;5;28mself\u001b[39m\u001b[38;5;241m.\u001b[39m_read_exact(\u001b[38;5;241m8\u001b[39m))\n\u001b[1;32m    523\u001b[0m \u001b[38;5;28;01mif\u001b[39;00m crc32 \u001b[38;5;241m!=\u001b[39m \u001b[38;5;28mself\u001b[39m\u001b[38;5;241m.\u001b[39m_crc:\n\u001b[0;32m--> 524\u001b[0m     \u001b[38;5;28;01mraise\u001b[39;00m BadGzipFile(\u001b[38;5;124m\"\u001b[39m\u001b[38;5;124mCRC check failed \u001b[39m\u001b[38;5;132;01m%s\u001b[39;00m\u001b[38;5;124m != \u001b[39m\u001b[38;5;132;01m%s\u001b[39;00m\u001b[38;5;124m\"\u001b[39m \u001b[38;5;241m%\u001b[39m (\u001b[38;5;28mhex\u001b[39m(crc32),\n\u001b[1;32m    525\u001b[0m                                                      \u001b[38;5;28mhex\u001b[39m(\u001b[38;5;28mself\u001b[39m\u001b[38;5;241m.\u001b[39m_crc)))\n\u001b[1;32m    526\u001b[0m \u001b[38;5;28;01melif\u001b[39;00m isize \u001b[38;5;241m!=\u001b[39m (\u001b[38;5;28mself\u001b[39m\u001b[38;5;241m.\u001b[39m_stream_size \u001b[38;5;241m&\u001b[39m \u001b[38;5;241m0xffffffff\u001b[39m):\n\u001b[1;32m    527\u001b[0m     \u001b[38;5;28;01mraise\u001b[39;00m BadGzipFile(\u001b[38;5;124m\"\u001b[39m\u001b[38;5;124mIncorrect length of data produced\u001b[39m\u001b[38;5;124m\"\u001b[39m)\n",
      "\u001b[0;31mBadGzipFile\u001b[0m: CRC check failed 0x5ab25329 != 0x84f031a9"
     ]
    }
   ],
   "source": [
    "b = a.get_fdata()"
   ]
  },
  {
   "cell_type": "code",
   "execution_count": null,
   "id": "ae3a0e52-87e7-4ac5-be3c-1189ea66439e",
   "metadata": {},
   "outputs": [],
   "source": []
  },
  {
   "cell_type": "code",
   "execution_count": 19,
   "id": "a88c18a7-dc66-47c5-bd5a-83471c3c77ba",
   "metadata": {
    "tags": []
   },
   "outputs": [
    {
     "name": "stdout",
     "output_type": "stream",
     "text": [
      "799 µs ± 3.14 µs per loop (mean ± std. dev. of 7 runs, 1,000 loops each)\n"
     ]
    }
   ],
   "source": [
    "%timeit a = nib.load(\"/tmp/test.nii.gz\")"
   ]
  },
  {
   "cell_type": "code",
   "execution_count": 22,
   "id": "3fdcb3ff-292d-4226-9621-0fda5b3fdba1",
   "metadata": {
    "tags": []
   },
   "outputs": [
    {
     "name": "stdout",
     "output_type": "stream",
     "text": [
      "The slowest run took 7.89 times longer than the fastest. This could mean that an intermediate result is being cached.\n",
      "2.99 µs ± 3.44 µs per loop (mean ± std. dev. of 7 runs, 1 loop each)\n"
     ]
    }
   ],
   "source": [
    "%timeit a.get_fdata()[:,:,0]"
   ]
  },
  {
   "cell_type": "code",
   "execution_count": 23,
   "id": "3f92d873-d0f1-426f-9a35-7e6ac00379c6",
   "metadata": {
    "tags": []
   },
   "outputs": [
    {
     "name": "stdout",
     "output_type": "stream",
     "text": [
      "1.14 µs ± 3.75 ns per loop (mean ± std. dev. of 7 runs, 1,000,000 loops each)\n"
     ]
    }
   ],
   "source": [
    "%timeit a.get_fdata()[:,:,0]"
   ]
  },
  {
   "cell_type": "code",
   "execution_count": null,
   "id": "0f15ed74-c2b9-47d1-82b1-99c3342c3142",
   "metadata": {},
   "outputs": [],
   "source": []
  },
  {
   "cell_type": "code",
   "execution_count": null,
   "id": "6404341f-e464-44be-80ae-5f429bf6d6a7",
   "metadata": {},
   "outputs": [],
   "source": []
  },
  {
   "cell_type": "code",
   "execution_count": null,
   "id": "66c2d56f-d011-4f72-bc12-8b30757e6850",
   "metadata": {
    "tags": []
   },
   "outputs": [],
   "source": []
  },
  {
   "cell_type": "code",
   "execution_count": null,
   "id": "546ff73c-9ffe-4f72-917a-155fb7813642",
   "metadata": {},
   "outputs": [],
   "source": []
  },
  {
   "cell_type": "code",
   "execution_count": null,
   "id": "967523b1-6608-4963-bb58-8c967f043dc1",
   "metadata": {},
   "outputs": [],
   "source": [
    "ddd.dataset.csv.frame_height > 128"
   ]
  },
  {
   "cell_type": "code",
   "execution_count": 40,
   "id": "891fd546-7463-4d51-91f1-44ae34d2ed1c",
   "metadata": {},
   "outputs": [
    {
     "data": {
      "text/plain": [
       "0         True\n",
       "1         True\n",
       "2         True\n",
       "3         True\n",
       "4         True\n",
       "          ... \n",
       "312786    True\n",
       "312787    True\n",
       "312788    True\n",
       "312789    True\n",
       "312790    True\n",
       "Length: 312791, dtype: bool"
      ]
     },
     "execution_count": 40,
     "metadata": {},
     "output_type": "execute_result"
    }
   ],
   "source": [
    "(ddd.dataset.csv.frame_height > 128) & (ddd.dataset.csv.frame_width > 128)"
   ]
  },
  {
   "cell_type": "code",
   "execution_count": 11,
   "id": "ea4ad207-fe86-4dc3-bc04-60e1c6eb485a",
   "metadata": {
    "tags": []
   },
   "outputs": [],
   "source": [
    "import sys"
   ]
  },
  {
   "cell_type": "code",
   "execution_count": 12,
   "id": "4bc22f12-429b-4070-9b4f-4d07c7a0f681",
   "metadata": {
    "tags": []
   },
   "outputs": [],
   "source": [
    "sys.path.insert(0,\"/home/users/joecohen/workspace/taming-transformers/\")"
   ]
  },
  {
   "cell_type": "code",
   "execution_count": 13,
   "id": "8860115c-54c2-4716-98db-004cbe25b260",
   "metadata": {
    "tags": []
   },
   "outputs": [],
   "source": [
    "import taming, taming.data, taming.data.ct"
   ]
  },
  {
   "cell_type": "code",
   "execution_count": 41,
   "id": "475a34bd-b092-4eea-9c9e-e6fe917b688a",
   "metadata": {
    "tags": []
   },
   "outputs": [
    {
     "data": {
      "application/vnd.jupyter.widget-view+json": {
       "model_id": "5540c0d84f5d4e9a94303fc630b994e7",
       "version_major": 2,
       "version_minor": 0
      },
      "text/plain": [
       "  0%|          | 0/1204 [00:00<?, ?it/s]"
      ]
     },
     "metadata": {},
     "output_type": "display_data"
    }
   ],
   "source": [
    "ddd = taming.data.ct.CTTrain(128, \"total\")"
   ]
  },
  {
   "cell_type": "code",
   "execution_count": null,
   "id": "93c37e14-3917-4594-ac16-7a32cf1ff549",
   "metadata": {},
   "outputs": [],
   "source": []
  },
  {
   "cell_type": "code",
   "execution_count": 44,
   "id": "d75e24eb-fb09-4925-88c2-597edf0f124c",
   "metadata": {
    "tags": []
   },
   "outputs": [
    {
     "name": "stdout",
     "output_type": "stream",
     "text": [
      "{}\n"
     ]
    },
    {
     "data": {
      "text/plain": [
       "SubsetDataset num_samples=292802\n",
       "└ of MergeDataset num_samples=312791\n",
       "  └0 TotalSegmenter_Dataset num_samples=312791\n",
       "  "
      ]
     },
     "execution_count": 44,
     "metadata": {},
     "output_type": "execute_result"
    }
   ],
   "source": [
    "ddd.dataset"
   ]
  },
  {
   "cell_type": "code",
   "execution_count": 25,
   "id": "cfaa7860-7600-46ac-9aa2-3b6445d71bb6",
   "metadata": {
    "tags": []
   },
   "outputs": [
    {
     "data": {
      "text/plain": [
       "(128, 128)"
      ]
     },
     "execution_count": 25,
     "metadata": {},
     "output_type": "execute_result"
    }
   ],
   "source": [
    "ddd[4]['image'].shape"
   ]
  },
  {
   "cell_type": "code",
   "execution_count": 42,
   "id": "395972d3-4d9a-48ec-8e15-59bea228ebfe",
   "metadata": {
    "tags": []
   },
   "outputs": [
    {
     "data": {
      "image/png": "[encoded data removed]",
      "text/plain": [
       "<Figure size 640x480 with 1 Axes>"
      ]
     },
     "metadata": {},
     "output_type": "display_data"
    }
   ],
   "source": [
    "plt.imshow(ddd[4]['image']);"
   ]
  },
  {
   "cell_type": "code",
   "execution_count": null,
   "id": "2568ffc6-b0c2-4416-bece-3dca26b7bb82",
   "metadata": {},
   "outputs": [],
   "source": []
  },
  {
   "cell_type": "code",
   "execution_count": 19,
   "id": "cad1b95b-fb60-4ff2-bea8-641ded6d669a",
   "metadata": {
    "tags": []
   },
   "outputs": [],
   "source": [
    "img = dd[4]['img']"
   ]
  },
  {
   "cell_type": "code",
   "execution_count": 20,
   "id": "c2647bda-4f71-4c86-943e-17d44b2c86a0",
   "metadata": {
    "tags": []
   },
   "outputs": [
    {
     "data": {
      "text/plain": [
       "<matplotlib.image.AxesImage at 0x7f93abdf6d00>"
      ]
     },
     "execution_count": 20,
     "metadata": {},
     "output_type": "execute_result"
    },
    {
     "data": {
      "image/png": "[encoded data removed]",
      "text/plain": [
       "<Figure size 640x480 with 1 Axes>"
      ]
     },
     "metadata": {},
     "output_type": "display_data"
    }
   ],
   "source": [
    "plt.imshow(img)"
   ]
  },
  {
   "cell_type": "code",
   "execution_count": null,
   "id": "9ebd65a8-f432-45d9-b35a-790491165d7e",
   "metadata": {},
   "outputs": [],
   "source": []
  },
  {
   "cell_type": "code",
   "execution_count": 109,
   "id": "dce6943c-a834-4d8b-84db-6a059cf3dad1",
   "metadata": {
    "tags": []
   },
   "outputs": [],
   "source": [
    "a={}"
   ]
  },
  {
   "cell_type": "code",
   "execution_count": 4,
   "id": "10d834e7-c23d-4fbb-a68e-2cd87f71457b",
   "metadata": {
    "tags": []
   },
   "outputs": [],
   "source": [
    "#a.update(csv.iloc[0])"
   ]
  },
  {
   "cell_type": "code",
   "execution_count": 5,
   "id": "bec763c7-7c65-4e6e-9f9e-1e837b9615e6",
   "metadata": {
    "tags": []
   },
   "outputs": [],
   "source": [
    "# for i, row in csv.iterrows():\n",
    "#     print(row)"
   ]
  },
  {
   "cell_type": "code",
   "execution_count": null,
   "id": "bf3a9ae2-4aa7-41b7-b397-d900b5b8fece",
   "metadata": {},
   "outputs": [],
   "source": []
  },
  {
   "cell_type": "code",
   "execution_count": 6,
   "id": "c0b69fd0-e7d6-40ba-ba36-fb6999bbad89",
   "metadata": {
    "tags": []
   },
   "outputs": [],
   "source": [
    "path = \"/home/users/joecohen/group/joecohen/Totalsegmentator_dataset/\""
   ]
  },
  {
   "cell_type": "code",
   "execution_count": null,
   "id": "26a58a66-ed01-4d62-bde0-dd96c3e77405",
   "metadata": {},
   "outputs": [],
   "source": []
  },
  {
   "cell_type": "code",
   "execution_count": 7,
   "id": "92051e70-3bfc-478a-8775-72165b699913",
   "metadata": {
    "tags": []
   },
   "outputs": [],
   "source": [
    "csv = pd.read_csv(path + 'meta.csv', delimiter=';')"
   ]
  },
  {
   "cell_type": "code",
   "execution_count": 8,
   "id": "7ec579c9-9ef8-4b8b-b990-98eccf5ef77e",
   "metadata": {
    "tags": []
   },
   "outputs": [
    {
     "data": {
      "text/html": [
       "<div>\n",
       "<style scoped>\n",
       "    .dataframe tbody tr th:only-of-type {\n",
       "        vertical-align: middle;\n",
       "    }\n",
       "\n",
       "    .dataframe tbody tr th {\n",
       "        vertical-align: top;\n",
       "    }\n",
       "\n",
       "    .dataframe thead th {\n",
       "        text-align: right;\n",
       "    }\n",
       "</style>\n",
       "<table border=\"1\" class=\"dataframe\">\n",
       "  <thead>\n",
       "    <tr style=\"text-align: right;\">\n",
       "      <th></th>\n",
       "      <th>image_id</th>\n",
       "      <th>age</th>\n",
       "      <th>gender</th>\n",
       "      <th>institute</th>\n",
       "      <th>study_type</th>\n",
       "      <th>split</th>\n",
       "    </tr>\n",
       "  </thead>\n",
       "  <tbody>\n",
       "    <tr>\n",
       "      <th>0</th>\n",
       "      <td>s0000</td>\n",
       "      <td>32</td>\n",
       "      <td>f</td>\n",
       "      <td>H</td>\n",
       "      <td>ct pelvis</td>\n",
       "      <td>val</td>\n",
       "    </tr>\n",
       "    <tr>\n",
       "      <th>1</th>\n",
       "      <td>s0001</td>\n",
       "      <td>59</td>\n",
       "      <td>f</td>\n",
       "      <td>H</td>\n",
       "      <td>ct abdomen-pelvis</td>\n",
       "      <td>train</td>\n",
       "    </tr>\n",
       "    <tr>\n",
       "      <th>2</th>\n",
       "      <td>s0002</td>\n",
       "      <td>49</td>\n",
       "      <td>f</td>\n",
       "      <td>H</td>\n",
       "      <td>ct thorax-neck</td>\n",
       "      <td>train</td>\n",
       "    </tr>\n",
       "    <tr>\n",
       "      <th>3</th>\n",
       "      <td>s0003</td>\n",
       "      <td>51</td>\n",
       "      <td>f</td>\n",
       "      <td>H</td>\n",
       "      <td>ct spine</td>\n",
       "      <td>train</td>\n",
       "    </tr>\n",
       "    <tr>\n",
       "      <th>4</th>\n",
       "      <td>s0004</td>\n",
       "      <td>72</td>\n",
       "      <td>f</td>\n",
       "      <td>C</td>\n",
       "      <td>ct thorax-abdomen-pelvis</td>\n",
       "      <td>train</td>\n",
       "    </tr>\n",
       "    <tr>\n",
       "      <th>...</th>\n",
       "      <td>...</td>\n",
       "      <td>...</td>\n",
       "      <td>...</td>\n",
       "      <td>...</td>\n",
       "      <td>...</td>\n",
       "      <td>...</td>\n",
       "    </tr>\n",
       "    <tr>\n",
       "      <th>1199</th>\n",
       "      <td>s1400</td>\n",
       "      <td>67</td>\n",
       "      <td>m</td>\n",
       "      <td>H</td>\n",
       "      <td>ct angiography thorax-abdomen-pelvis</td>\n",
       "      <td>train</td>\n",
       "    </tr>\n",
       "    <tr>\n",
       "      <th>1200</th>\n",
       "      <td>s1401</td>\n",
       "      <td>49</td>\n",
       "      <td>f</td>\n",
       "      <td>H</td>\n",
       "      <td>ct angiography abdomen-pelvis</td>\n",
       "      <td>train</td>\n",
       "    </tr>\n",
       "    <tr>\n",
       "      <th>1201</th>\n",
       "      <td>s1403</td>\n",
       "      <td>59</td>\n",
       "      <td>m</td>\n",
       "      <td>H</td>\n",
       "      <td>ct angiography abdomen-pelvis</td>\n",
       "      <td>train</td>\n",
       "    </tr>\n",
       "    <tr>\n",
       "      <th>1202</th>\n",
       "      <td>s1404</td>\n",
       "      <td>61</td>\n",
       "      <td>f</td>\n",
       "      <td>H</td>\n",
       "      <td>ct angiography thorax-abdomen-pelvis</td>\n",
       "      <td>train</td>\n",
       "    </tr>\n",
       "    <tr>\n",
       "      <th>1203</th>\n",
       "      <td>s1405</td>\n",
       "      <td>74</td>\n",
       "      <td>m</td>\n",
       "      <td>H</td>\n",
       "      <td>ct angiography abdomen-pelvis</td>\n",
       "      <td>train</td>\n",
       "    </tr>\n",
       "  </tbody>\n",
       "</table>\n",
       "<p>1204 rows × 6 columns</p>\n",
       "</div>"
      ],
      "text/plain": [
       "     image_id  age gender institute                            study_type   \n",
       "0       s0000   32      f         H                             ct pelvis  \\\n",
       "1       s0001   59      f         H                     ct abdomen-pelvis   \n",
       "2       s0002   49      f         H                        ct thorax-neck   \n",
       "3       s0003   51      f         H                              ct spine   \n",
       "4       s0004   72      f         C              ct thorax-abdomen-pelvis   \n",
       "...       ...  ...    ...       ...                                   ...   \n",
       "1199    s1400   67      m         H  ct angiography thorax-abdomen-pelvis   \n",
       "1200    s1401   49      f         H         ct angiography abdomen-pelvis   \n",
       "1201    s1403   59      m         H         ct angiography abdomen-pelvis   \n",
       "1202    s1404   61      f         H  ct angiography thorax-abdomen-pelvis   \n",
       "1203    s1405   74      m         H         ct angiography abdomen-pelvis   \n",
       "\n",
       "      split  \n",
       "0       val  \n",
       "1     train  \n",
       "2     train  \n",
       "3     train  \n",
       "4     train  \n",
       "...     ...  \n",
       "1199  train  \n",
       "1200  train  \n",
       "1201  train  \n",
       "1202  train  \n",
       "1203  train  \n",
       "\n",
       "[1204 rows x 6 columns]"
      ]
     },
     "execution_count": 8,
     "metadata": {},
     "output_type": "execute_result"
    }
   ],
   "source": [
    "csv"
   ]
  },
  {
   "cell_type": "code",
   "execution_count": null,
   "id": "b6fd1d8c-c79e-4b34-84c4-8278e235a3f3",
   "metadata": {},
   "outputs": [],
   "source": []
  },
  {
   "cell_type": "code",
   "execution_count": null,
   "id": "7b48442f-2327-4eb9-968d-8da9bb66d894",
   "metadata": {
    "tags": []
   },
   "outputs": [],
   "source": []
  },
  {
   "cell_type": "code",
   "execution_count": null,
   "id": "958edef1-8786-4961-83a9-abeb877f2f7b",
   "metadata": {
    "tags": []
   },
   "outputs": [],
   "source": []
  },
  {
   "cell_type": "code",
   "execution_count": 9,
   "id": "36074745-cf6b-4465-9a23-45effe81248c",
   "metadata": {
    "tags": []
   },
   "outputs": [],
   "source": [
    "import nibabel as nib"
   ]
  },
  {
   "cell_type": "code",
   "execution_count": 90,
   "id": "14ac0eb4-3ef2-4af2-8b0e-c32ccadbb3b4",
   "metadata": {
    "tags": []
   },
   "outputs": [
    {
     "data": {
      "application/vnd.jupyter.widget-view+json": {
       "model_id": "400c14c8d84d47fdaaaf8b404d3abcd4",
       "version_major": 2,
       "version_minor": 0
      },
      "text/plain": [
       "  0%|          | 0/1204 [00:00<?, ?it/s]"
      ]
     },
     "metadata": {},
     "output_type": "display_data"
    }
   ],
   "source": [
    "sizes = []\n",
    "for image_id in tqdm(csv.image_id):\n",
    "    g = nib.load(path + image_id + \"/ct.nii.gz\")\n",
    "    meta = {\n",
    "        'image_id': image_id,\n",
    "        'frame': list(range(g.shape[2])),\n",
    "        'frame_height':g.shape[0],\n",
    "        'frame_width': g.shape[1],\n",
    "    }\n",
    "    meta.update(dict(g.header))\n",
    "    sizes.append(meta)\n",
    "    #print(image_id, g.shape, g.get_data_dtype())"
   ]
  },
  {
   "cell_type": "code",
   "execution_count": null,
   "id": "43a5b932-22f6-483c-98fd-80a453761f9f",
   "metadata": {
    "tags": []
   },
   "outputs": [],
   "source": []
  },
  {
   "cell_type": "code",
   "execution_count": 91,
   "id": "5e1546af-a074-4e36-a35b-20b75285ac6a",
   "metadata": {
    "tags": []
   },
   "outputs": [],
   "source": [
    "df = pd.DataFrame(sizes)"
   ]
  },
  {
   "cell_type": "code",
   "execution_count": null,
   "id": "cbf47516-8f18-4fa0-ba94-5597c6a4cd38",
   "metadata": {
    "tags": []
   },
   "outputs": [],
   "source": []
  },
  {
   "cell_type": "code",
   "execution_count": 94,
   "id": "69c9890b-d799-4841-8e59-8974edd4baba",
   "metadata": {
    "tags": []
   },
   "outputs": [],
   "source": [
    "df = df.explode('frame')"
   ]
  },
  {
   "cell_type": "code",
   "execution_count": 95,
   "id": "d3195b66-414e-454e-b91b-ab7a5e8c1f5e",
   "metadata": {
    "tags": []
   },
   "outputs": [
    {
     "data": {
      "text/plain": [
       "312791"
      ]
     },
     "execution_count": 95,
     "metadata": {},
     "output_type": "execute_result"
    }
   ],
   "source": [
    "len(df)"
   ]
  },
  {
   "cell_type": "code",
   "execution_count": 96,
   "id": "c891e7fb-644d-4456-8e49-231e21fbffdc",
   "metadata": {
    "tags": []
   },
   "outputs": [
    {
     "data": {
      "text/html": [
       "<div>\n",
       "<style scoped>\n",
       "    .dataframe tbody tr th:only-of-type {\n",
       "        vertical-align: middle;\n",
       "    }\n",
       "\n",
       "    .dataframe tbody tr th {\n",
       "        vertical-align: top;\n",
       "    }\n",
       "\n",
       "    .dataframe thead th {\n",
       "        text-align: right;\n",
       "    }\n",
       "</style>\n",
       "<table border=\"1\" class=\"dataframe\">\n",
       "  <thead>\n",
       "    <tr style=\"text-align: right;\">\n",
       "      <th></th>\n",
       "      <th>image_id</th>\n",
       "      <th>frame</th>\n",
       "      <th>frame_height</th>\n",
       "      <th>frame_width</th>\n",
       "      <th>sizeof_hdr</th>\n",
       "      <th>data_type</th>\n",
       "      <th>db_name</th>\n",
       "      <th>extents</th>\n",
       "      <th>session_error</th>\n",
       "      <th>regular</th>\n",
       "      <th>...</th>\n",
       "      <th>quatern_c</th>\n",
       "      <th>quatern_d</th>\n",
       "      <th>qoffset_x</th>\n",
       "      <th>qoffset_y</th>\n",
       "      <th>qoffset_z</th>\n",
       "      <th>srow_x</th>\n",
       "      <th>srow_y</th>\n",
       "      <th>srow_z</th>\n",
       "      <th>intent_name</th>\n",
       "      <th>magic</th>\n",
       "    </tr>\n",
       "  </thead>\n",
       "  <tbody>\n",
       "    <tr>\n",
       "      <th>0</th>\n",
       "      <td>s0000</td>\n",
       "      <td>0</td>\n",
       "      <td>294</td>\n",
       "      <td>192</td>\n",
       "      <td>348</td>\n",
       "      <td>b''</td>\n",
       "      <td>b''</td>\n",
       "      <td>0</td>\n",
       "      <td>0</td>\n",
       "      <td>b''</td>\n",
       "      <td>...</td>\n",
       "      <td>0.0</td>\n",
       "      <td>-0.15948671</td>\n",
       "      <td>-251.3474</td>\n",
       "      <td>82.563995</td>\n",
       "      <td>93.09277</td>\n",
       "      <td>[1.4236406, 0.47218123, 0.0, -251.3474]</td>\n",
       "      <td>[-0.47249055, 1.4237434, 0.0, 82.563995]</td>\n",
       "      <td>[0.0, 0.0, 1.5, 93.09277]</td>\n",
       "      <td>b''</td>\n",
       "      <td>b'n+1'</td>\n",
       "    </tr>\n",
       "    <tr>\n",
       "      <th>0</th>\n",
       "      <td>s0000</td>\n",
       "      <td>1</td>\n",
       "      <td>294</td>\n",
       "      <td>192</td>\n",
       "      <td>348</td>\n",
       "      <td>b''</td>\n",
       "      <td>b''</td>\n",
       "      <td>0</td>\n",
       "      <td>0</td>\n",
       "      <td>b''</td>\n",
       "      <td>...</td>\n",
       "      <td>0.0</td>\n",
       "      <td>-0.15948671</td>\n",
       "      <td>-251.3474</td>\n",
       "      <td>82.563995</td>\n",
       "      <td>93.09277</td>\n",
       "      <td>[1.4236406, 0.47218123, 0.0, -251.3474]</td>\n",
       "      <td>[-0.47249055, 1.4237434, 0.0, 82.563995]</td>\n",
       "      <td>[0.0, 0.0, 1.5, 93.09277]</td>\n",
       "      <td>b''</td>\n",
       "      <td>b'n+1'</td>\n",
       "    </tr>\n",
       "    <tr>\n",
       "      <th>0</th>\n",
       "      <td>s0000</td>\n",
       "      <td>2</td>\n",
       "      <td>294</td>\n",
       "      <td>192</td>\n",
       "      <td>348</td>\n",
       "      <td>b''</td>\n",
       "      <td>b''</td>\n",
       "      <td>0</td>\n",
       "      <td>0</td>\n",
       "      <td>b''</td>\n",
       "      <td>...</td>\n",
       "      <td>0.0</td>\n",
       "      <td>-0.15948671</td>\n",
       "      <td>-251.3474</td>\n",
       "      <td>82.563995</td>\n",
       "      <td>93.09277</td>\n",
       "      <td>[1.4236406, 0.47218123, 0.0, -251.3474]</td>\n",
       "      <td>[-0.47249055, 1.4237434, 0.0, 82.563995]</td>\n",
       "      <td>[0.0, 0.0, 1.5, 93.09277]</td>\n",
       "      <td>b''</td>\n",
       "      <td>b'n+1'</td>\n",
       "    </tr>\n",
       "    <tr>\n",
       "      <th>0</th>\n",
       "      <td>s0000</td>\n",
       "      <td>3</td>\n",
       "      <td>294</td>\n",
       "      <td>192</td>\n",
       "      <td>348</td>\n",
       "      <td>b''</td>\n",
       "      <td>b''</td>\n",
       "      <td>0</td>\n",
       "      <td>0</td>\n",
       "      <td>b''</td>\n",
       "      <td>...</td>\n",
       "      <td>0.0</td>\n",
       "      <td>-0.15948671</td>\n",
       "      <td>-251.3474</td>\n",
       "      <td>82.563995</td>\n",
       "      <td>93.09277</td>\n",
       "      <td>[1.4236406, 0.47218123, 0.0, -251.3474]</td>\n",
       "      <td>[-0.47249055, 1.4237434, 0.0, 82.563995]</td>\n",
       "      <td>[0.0, 0.0, 1.5, 93.09277]</td>\n",
       "      <td>b''</td>\n",
       "      <td>b'n+1'</td>\n",
       "    </tr>\n",
       "    <tr>\n",
       "      <th>0</th>\n",
       "      <td>s0000</td>\n",
       "      <td>4</td>\n",
       "      <td>294</td>\n",
       "      <td>192</td>\n",
       "      <td>348</td>\n",
       "      <td>b''</td>\n",
       "      <td>b''</td>\n",
       "      <td>0</td>\n",
       "      <td>0</td>\n",
       "      <td>b''</td>\n",
       "      <td>...</td>\n",
       "      <td>0.0</td>\n",
       "      <td>-0.15948671</td>\n",
       "      <td>-251.3474</td>\n",
       "      <td>82.563995</td>\n",
       "      <td>93.09277</td>\n",
       "      <td>[1.4236406, 0.47218123, 0.0, -251.3474]</td>\n",
       "      <td>[-0.47249055, 1.4237434, 0.0, 82.563995]</td>\n",
       "      <td>[0.0, 0.0, 1.5, 93.09277]</td>\n",
       "      <td>b''</td>\n",
       "      <td>b'n+1'</td>\n",
       "    </tr>\n",
       "    <tr>\n",
       "      <th>...</th>\n",
       "      <td>...</td>\n",
       "      <td>...</td>\n",
       "      <td>...</td>\n",
       "      <td>...</td>\n",
       "      <td>...</td>\n",
       "      <td>...</td>\n",
       "      <td>...</td>\n",
       "      <td>...</td>\n",
       "      <td>...</td>\n",
       "      <td>...</td>\n",
       "      <td>...</td>\n",
       "      <td>...</td>\n",
       "      <td>...</td>\n",
       "      <td>...</td>\n",
       "      <td>...</td>\n",
       "      <td>...</td>\n",
       "      <td>...</td>\n",
       "      <td>...</td>\n",
       "      <td>...</td>\n",
       "      <td>...</td>\n",
       "      <td>...</td>\n",
       "    </tr>\n",
       "    <tr>\n",
       "      <th>1203</th>\n",
       "      <td>s1405</td>\n",
       "      <td>282</td>\n",
       "      <td>255</td>\n",
       "      <td>255</td>\n",
       "      <td>348</td>\n",
       "      <td>b''</td>\n",
       "      <td>b''</td>\n",
       "      <td>0</td>\n",
       "      <td>0</td>\n",
       "      <td>b''</td>\n",
       "      <td>...</td>\n",
       "      <td>0.0</td>\n",
       "      <td>0.0</td>\n",
       "      <td>-185.62695</td>\n",
       "      <td>-57.126953</td>\n",
       "      <td>30.6</td>\n",
       "      <td>[1.5, 0.0, 0.0, -185.62695]</td>\n",
       "      <td>[0.0, 1.5, 0.0, -57.126953]</td>\n",
       "      <td>[0.0, 0.0, 1.5, 30.6]</td>\n",
       "      <td>b''</td>\n",
       "      <td>b'n+1'</td>\n",
       "    </tr>\n",
       "    <tr>\n",
       "      <th>1203</th>\n",
       "      <td>s1405</td>\n",
       "      <td>283</td>\n",
       "      <td>255</td>\n",
       "      <td>255</td>\n",
       "      <td>348</td>\n",
       "      <td>b''</td>\n",
       "      <td>b''</td>\n",
       "      <td>0</td>\n",
       "      <td>0</td>\n",
       "      <td>b''</td>\n",
       "      <td>...</td>\n",
       "      <td>0.0</td>\n",
       "      <td>0.0</td>\n",
       "      <td>-185.62695</td>\n",
       "      <td>-57.126953</td>\n",
       "      <td>30.6</td>\n",
       "      <td>[1.5, 0.0, 0.0, -185.62695]</td>\n",
       "      <td>[0.0, 1.5, 0.0, -57.126953]</td>\n",
       "      <td>[0.0, 0.0, 1.5, 30.6]</td>\n",
       "      <td>b''</td>\n",
       "      <td>b'n+1'</td>\n",
       "    </tr>\n",
       "    <tr>\n",
       "      <th>1203</th>\n",
       "      <td>s1405</td>\n",
       "      <td>284</td>\n",
       "      <td>255</td>\n",
       "      <td>255</td>\n",
       "      <td>348</td>\n",
       "      <td>b''</td>\n",
       "      <td>b''</td>\n",
       "      <td>0</td>\n",
       "      <td>0</td>\n",
       "      <td>b''</td>\n",
       "      <td>...</td>\n",
       "      <td>0.0</td>\n",
       "      <td>0.0</td>\n",
       "      <td>-185.62695</td>\n",
       "      <td>-57.126953</td>\n",
       "      <td>30.6</td>\n",
       "      <td>[1.5, 0.0, 0.0, -185.62695]</td>\n",
       "      <td>[0.0, 1.5, 0.0, -57.126953]</td>\n",
       "      <td>[0.0, 0.0, 1.5, 30.6]</td>\n",
       "      <td>b''</td>\n",
       "      <td>b'n+1'</td>\n",
       "    </tr>\n",
       "    <tr>\n",
       "      <th>1203</th>\n",
       "      <td>s1405</td>\n",
       "      <td>285</td>\n",
       "      <td>255</td>\n",
       "      <td>255</td>\n",
       "      <td>348</td>\n",
       "      <td>b''</td>\n",
       "      <td>b''</td>\n",
       "      <td>0</td>\n",
       "      <td>0</td>\n",
       "      <td>b''</td>\n",
       "      <td>...</td>\n",
       "      <td>0.0</td>\n",
       "      <td>0.0</td>\n",
       "      <td>-185.62695</td>\n",
       "      <td>-57.126953</td>\n",
       "      <td>30.6</td>\n",
       "      <td>[1.5, 0.0, 0.0, -185.62695]</td>\n",
       "      <td>[0.0, 1.5, 0.0, -57.126953]</td>\n",
       "      <td>[0.0, 0.0, 1.5, 30.6]</td>\n",
       "      <td>b''</td>\n",
       "      <td>b'n+1'</td>\n",
       "    </tr>\n",
       "    <tr>\n",
       "      <th>1203</th>\n",
       "      <td>s1405</td>\n",
       "      <td>286</td>\n",
       "      <td>255</td>\n",
       "      <td>255</td>\n",
       "      <td>348</td>\n",
       "      <td>b''</td>\n",
       "      <td>b''</td>\n",
       "      <td>0</td>\n",
       "      <td>0</td>\n",
       "      <td>b''</td>\n",
       "      <td>...</td>\n",
       "      <td>0.0</td>\n",
       "      <td>0.0</td>\n",
       "      <td>-185.62695</td>\n",
       "      <td>-57.126953</td>\n",
       "      <td>30.6</td>\n",
       "      <td>[1.5, 0.0, 0.0, -185.62695]</td>\n",
       "      <td>[0.0, 1.5, 0.0, -57.126953]</td>\n",
       "      <td>[0.0, 0.0, 1.5, 30.6]</td>\n",
       "      <td>b''</td>\n",
       "      <td>b'n+1'</td>\n",
       "    </tr>\n",
       "  </tbody>\n",
       "</table>\n",
       "<p>312791 rows × 47 columns</p>\n",
       "</div>"
      ],
      "text/plain": [
       "     image_id frame  frame_height  frame_width sizeof_hdr data_type db_name   \n",
       "0       s0000     0           294          192        348       b''     b''  \\\n",
       "0       s0000     1           294          192        348       b''     b''   \n",
       "0       s0000     2           294          192        348       b''     b''   \n",
       "0       s0000     3           294          192        348       b''     b''   \n",
       "0       s0000     4           294          192        348       b''     b''   \n",
       "...       ...   ...           ...          ...        ...       ...     ...   \n",
       "1203    s1405   282           255          255        348       b''     b''   \n",
       "1203    s1405   283           255          255        348       b''     b''   \n",
       "1203    s1405   284           255          255        348       b''     b''   \n",
       "1203    s1405   285           255          255        348       b''     b''   \n",
       "1203    s1405   286           255          255        348       b''     b''   \n",
       "\n",
       "     extents session_error regular  ... quatern_c    quatern_d   qoffset_x   \n",
       "0          0             0     b''  ...       0.0  -0.15948671   -251.3474  \\\n",
       "0          0             0     b''  ...       0.0  -0.15948671   -251.3474   \n",
       "0          0             0     b''  ...       0.0  -0.15948671   -251.3474   \n",
       "0          0             0     b''  ...       0.0  -0.15948671   -251.3474   \n",
       "0          0             0     b''  ...       0.0  -0.15948671   -251.3474   \n",
       "...      ...           ...     ...  ...       ...          ...         ...   \n",
       "1203       0             0     b''  ...       0.0          0.0  -185.62695   \n",
       "1203       0             0     b''  ...       0.0          0.0  -185.62695   \n",
       "1203       0             0     b''  ...       0.0          0.0  -185.62695   \n",
       "1203       0             0     b''  ...       0.0          0.0  -185.62695   \n",
       "1203       0             0     b''  ...       0.0          0.0  -185.62695   \n",
       "\n",
       "       qoffset_y qoffset_z                                   srow_x   \n",
       "0      82.563995  93.09277  [1.4236406, 0.47218123, 0.0, -251.3474]  \\\n",
       "0      82.563995  93.09277  [1.4236406, 0.47218123, 0.0, -251.3474]   \n",
       "0      82.563995  93.09277  [1.4236406, 0.47218123, 0.0, -251.3474]   \n",
       "0      82.563995  93.09277  [1.4236406, 0.47218123, 0.0, -251.3474]   \n",
       "0      82.563995  93.09277  [1.4236406, 0.47218123, 0.0, -251.3474]   \n",
       "...          ...       ...                                      ...   \n",
       "1203  -57.126953      30.6              [1.5, 0.0, 0.0, -185.62695]   \n",
       "1203  -57.126953      30.6              [1.5, 0.0, 0.0, -185.62695]   \n",
       "1203  -57.126953      30.6              [1.5, 0.0, 0.0, -185.62695]   \n",
       "1203  -57.126953      30.6              [1.5, 0.0, 0.0, -185.62695]   \n",
       "1203  -57.126953      30.6              [1.5, 0.0, 0.0, -185.62695]   \n",
       "\n",
       "                                        srow_y                     srow_z   \n",
       "0     [-0.47249055, 1.4237434, 0.0, 82.563995]  [0.0, 0.0, 1.5, 93.09277]  \\\n",
       "0     [-0.47249055, 1.4237434, 0.0, 82.563995]  [0.0, 0.0, 1.5, 93.09277]   \n",
       "0     [-0.47249055, 1.4237434, 0.0, 82.563995]  [0.0, 0.0, 1.5, 93.09277]   \n",
       "0     [-0.47249055, 1.4237434, 0.0, 82.563995]  [0.0, 0.0, 1.5, 93.09277]   \n",
       "0     [-0.47249055, 1.4237434, 0.0, 82.563995]  [0.0, 0.0, 1.5, 93.09277]   \n",
       "...                                        ...                        ...   \n",
       "1203               [0.0, 1.5, 0.0, -57.126953]      [0.0, 0.0, 1.5, 30.6]   \n",
       "1203               [0.0, 1.5, 0.0, -57.126953]      [0.0, 0.0, 1.5, 30.6]   \n",
       "1203               [0.0, 1.5, 0.0, -57.126953]      [0.0, 0.0, 1.5, 30.6]   \n",
       "1203               [0.0, 1.5, 0.0, -57.126953]      [0.0, 0.0, 1.5, 30.6]   \n",
       "1203               [0.0, 1.5, 0.0, -57.126953]      [0.0, 0.0, 1.5, 30.6]   \n",
       "\n",
       "     intent_name   magic  \n",
       "0            b''  b'n+1'  \n",
       "0            b''  b'n+1'  \n",
       "0            b''  b'n+1'  \n",
       "0            b''  b'n+1'  \n",
       "0            b''  b'n+1'  \n",
       "...          ...     ...  \n",
       "1203         b''  b'n+1'  \n",
       "1203         b''  b'n+1'  \n",
       "1203         b''  b'n+1'  \n",
       "1203         b''  b'n+1'  \n",
       "1203         b''  b'n+1'  \n",
       "\n",
       "[312791 rows x 47 columns]"
      ]
     },
     "execution_count": 96,
     "metadata": {},
     "output_type": "execute_result"
    }
   ],
   "source": [
    "df"
   ]
  },
  {
   "cell_type": "code",
   "execution_count": 100,
   "id": "50da2fb8-4321-4b57-bb04-9166282c1c97",
   "metadata": {
    "tags": []
   },
   "outputs": [
    {
     "data": {
      "text/plain": [
       "47"
      ]
     },
     "execution_count": 100,
     "metadata": {},
     "output_type": "execute_result"
    }
   ],
   "source": [
    "df['frame_height'].min()"
   ]
  },
  {
   "cell_type": "code",
   "execution_count": 99,
   "id": "dd6f2969-9ff0-4b73-ada8-ea1b9177ffb6",
   "metadata": {
    "tags": []
   },
   "outputs": [
    {
     "data": {
      "text/plain": [
       "48"
      ]
     },
     "execution_count": 99,
     "metadata": {},
     "output_type": "execute_result"
    }
   ],
   "source": [
    "df['frame_width'].min()"
   ]
  },
  {
   "cell_type": "code",
   "execution_count": null,
   "id": "59dae11e-b2e6-463a-909d-d2fe524a5581",
   "metadata": {},
   "outputs": [],
   "source": []
  },
  {
   "cell_type": "code",
   "execution_count": null,
   "id": "39753214-b850-49b8-918a-3db5b2b19d5c",
   "metadata": {},
   "outputs": [],
   "source": []
  },
  {
   "cell_type": "code",
   "execution_count": null,
   "id": "d195b8d4-42d2-4050-a59b-b827509f6389",
   "metadata": {
    "tags": []
   },
   "outputs": [],
   "source": []
  },
  {
   "cell_type": "code",
   "execution_count": null,
   "id": "61de8d3d-b844-437e-a0a3-8fb4283978df",
   "metadata": {},
   "outputs": [],
   "source": []
  },
  {
   "cell_type": "code",
   "execution_count": null,
   "id": "6f7a46fd-eaca-4252-866d-4e1b729066c0",
   "metadata": {},
   "outputs": [],
   "source": []
  },
  {
   "cell_type": "code",
   "execution_count": 86,
   "id": "f7e09937-6dd6-4a54-93c3-fc08b06fad3f",
   "metadata": {
    "tags": []
   },
   "outputs": [],
   "source": [
    "g = nib.load(path + \"s0001/ct.nii.gz\")"
   ]
  },
  {
   "cell_type": "code",
   "execution_count": null,
   "id": "6eecbf82-268f-4fc6-93f5-bbe363f163e4",
   "metadata": {
    "tags": []
   },
   "outputs": [],
   "source": []
  },
  {
   "cell_type": "code",
   "execution_count": 87,
   "id": "f7cd1a65-6a11-4f7e-866d-cdba9e60840d",
   "metadata": {
    "tags": []
   },
   "outputs": [],
   "source": [
    "#g.get_fdata()"
   ]
  },
  {
   "cell_type": "code",
   "execution_count": 88,
   "id": "c7d3c6c6-259e-4fd3-80fe-703b608f98ea",
   "metadata": {
    "tags": []
   },
   "outputs": [],
   "source": [
    "img = g.get_fdata()"
   ]
  },
  {
   "cell_type": "code",
   "execution_count": null,
   "id": "748dceff-a96d-46a1-a09a-aaf7e2839af5",
   "metadata": {},
   "outputs": [],
   "source": []
  },
  {
   "cell_type": "code",
   "execution_count": 89,
   "id": "4f0c5ddd-11f3-4111-b10b-b81cb1a1dd06",
   "metadata": {
    "tags": []
   },
   "outputs": [
    {
     "data": {
      "image/png": "[encoded data removed]",
      "text/plain": [
       "<Figure size 640x480 with 1 Axes>"
      ]
     },
     "metadata": {},
     "output_type": "display_data"
    }
   ],
   "source": [
    "plt.imshow(img[:,:,50]);"
   ]
  },
  {
   "cell_type": "code",
   "execution_count": null,
   "id": "ca0277a0-f56f-4226-8a1d-0d501db29b68",
   "metadata": {},
   "outputs": [],
   "source": []
  },
  {
   "cell_type": "code",
   "execution_count": null,
   "id": "f3faf918-36a0-431e-bd41-f40141b4e66a",
   "metadata": {},
   "outputs": [],
   "source": []
  },
  {
   "cell_type": "code",
   "execution_count": 10,
   "id": "83408ff9-e649-49d6-87cd-fd0f89bdf2b4",
   "metadata": {},
   "outputs": [
    {
     "data": {
      "application/vnd.jupyter.widget-view+json": {
       "model_id": "7ec672f8970f41cea5833ff05c8da1a7",
       "version_major": 2,
       "version_minor": 0
      },
      "text/plain": [
       "  0%|          | 0/1204 [00:00<?, ?it/s]"
      ]
     },
     "metadata": {},
     "output_type": "display_data"
    }
   ],
   "source": [
    "d = ct_datasets.TotalSegmenter_Dataset(path)"
   ]
  },
  {
   "cell_type": "code",
   "execution_count": null,
   "id": "dbc3471b-b46f-4913-a9bc-0215edb1231d",
   "metadata": {},
   "outputs": [],
   "source": []
  }
 ],
 "metadata": {
  "kernelspec": {
   "display_name": "Python 3 (ipykernel)",
   "language": "python",
   "name": "python3"
  },
  "language_info": {
   "codemirror_mode": {
    "name": "ipython",
    "version": 3
   },
   "file_extension": ".py",
   "mimetype": "text/x-python",
   "name": "python",
   "nbconvert_exporter": "python",
   "pygments_lexer": "ipython3",
   "version": "3.9.0"
  }
 },
 "nbformat": 4,
 "nbformat_minor": 5
}
