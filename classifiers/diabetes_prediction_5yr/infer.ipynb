{
 "cells": [
  {
   "cell_type": "code",
   "execution_count": 3,
   "id": "80dd8c48-ec4f-4c01-84d5-c8bc1a228923",
   "metadata": {
    "tags": []
   },
   "outputs": [],
   "source": [
    "%load_ext autoreload\n",
    "%autoreload 2 "
   ]
  },
  {
   "cell_type": "code",
   "execution_count": null,
   "id": "bc80a876-54ad-4269-88ea-65a54cfbdaef",
   "metadata": {},
   "outputs": [],
   "source": [
    "#!pip3 install monai"
   ]
  },
  {
   "cell_type": "code",
   "execution_count": 4,
   "id": "2df6083b-8a1a-4221-81c8-00309e860085",
   "metadata": {
    "tags": []
   },
   "outputs": [],
   "source": [
    "import sys\n",
    "import torch\n",
    "from torch.utils.data import DataLoader\n",
    "from torch import nn\n",
    "import numpy as np\n",
    "from sklearn.metrics import roc_auc_score, average_precision_score\n",
    "import monai\n"
   ]
  },
  {
   "cell_type": "code",
   "execution_count": 5,
   "id": "9140411e-20d6-41f4-b15f-ab59b0a0954f",
   "metadata": {
    "tags": []
   },
   "outputs": [],
   "source": []
  },
  {
   "cell_type": "code",
   "execution_count": null,
   "id": "379419aa-11a9-43d1-a04f-6a26d4a87872",
   "metadata": {},
   "outputs": [],
   "source": []
  },
  {
   "cell_type": "code",
   "execution_count": 7,
   "id": "bafd9725-5469-464e-89eb-eaf3a3c3620b",
   "metadata": {
    "tags": []
   },
   "outputs": [
    {
     "data": {
      "text/plain": [
       "<All keys matched successfully>"
      ]
     },
     "execution_count": 7,
     "metadata": {},
     "output_type": "execute_result"
    }
   ],
   "source": [
    "model = monai.networks.nets.densenet.densenet121(spatial_dims=3, in_channels=1, out_channels=1)\n",
    "\n",
    "# Load the model from a file\n",
    "MODEL_FILE = 'ct_diabetes_prediction_5yr_best.pt'\n",
    "model.load_state_dict(torch.load(MODEL_FILE, map_location='cpu'))"
   ]
  },
  {
   "cell_type": "code",
   "execution_count": null,
   "id": "2b8c4927-29b7-4fbe-a919-7c4078f07c90",
   "metadata": {},
   "outputs": [],
   "source": []
  },
  {
   "cell_type": "code",
   "execution_count": null,
   "id": "72c45b76-42e7-4224-992b-303d9af17513",
   "metadata": {},
   "outputs": [],
   "source": []
  },
  {
   "cell_type": "code",
   "execution_count": null,
   "id": "0af613ca-30aa-4ad5-ad94-796c04d126ea",
   "metadata": {},
   "outputs": [],
   "source": []
  },
  {
   "cell_type": "code",
   "execution_count": null,
   "id": "1e2a5b16-f3f6-443b-8346-7a54a9e98f47",
   "metadata": {},
   "outputs": [],
   "source": []
  },
  {
   "cell_type": "code",
   "execution_count": null,
   "id": "16d85b64-a859-4b49-b574-64b0c0614db6",
   "metadata": {},
   "outputs": [],
   "source": []
  }
 ],
 "metadata": {
  "kernelspec": {
   "display_name": "Python 3 (ipykernel)",
   "language": "python",
   "name": "python3"
  },
  "language_info": {
   "codemirror_mode": {
    "name": "ipython",
    "version": 3
   },
   "file_extension": ".py",
   "mimetype": "text/x-python",
   "name": "python",
   "nbconvert_exporter": "python",
   "pygments_lexer": "ipython3",
   "version": "3.9.0"
  }
 },
 "nbformat": 4,
 "nbformat_minor": 5
}
